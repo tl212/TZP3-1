{
 "cells": [
  {
   "cell_type": "code",
   "execution_count": 51,
   "metadata": {},
   "outputs": [],
   "source": [
    "import pandas as pd\n",
    "import numpy as np"
   ]
  },
  {
   "cell_type": "code",
   "execution_count": 52,
   "metadata": {},
   "outputs": [],
   "source": [
    "movies_only = pd.read_csv('data/movies_only.csv')"
   ]
  },
  {
   "cell_type": "code",
   "execution_count": 53,
   "metadata": {},
   "outputs": [
    {
     "data": {
      "text/html": [
       "<div>\n",
       "<style scoped>\n",
       "    .dataframe tbody tr th:only-of-type {\n",
       "        vertical-align: middle;\n",
       "    }\n",
       "\n",
       "    .dataframe tbody tr th {\n",
       "        vertical-align: top;\n",
       "    }\n",
       "\n",
       "    .dataframe thead th {\n",
       "        text-align: right;\n",
       "    }\n",
       "</style>\n",
       "<table border=\"1\" class=\"dataframe\">\n",
       "  <thead>\n",
       "    <tr style=\"text-align: right;\">\n",
       "      <th></th>\n",
       "      <th>Title</th>\n",
       "      <th>genres</th>\n",
       "      <th>Director</th>\n",
       "      <th>Actors</th>\n",
       "    </tr>\n",
       "  </thead>\n",
       "  <tbody>\n",
       "    <tr>\n",
       "      <th>0</th>\n",
       "      <td>Toy Story</td>\n",
       "      <td>Adventure|Animation|Children|Comedy|Fantasy</td>\n",
       "      <td>John Lasseter</td>\n",
       "      <td>Tom Hanks, Tim Allen, Don Rickles, Jim Varney</td>\n",
       "    </tr>\n",
       "    <tr>\n",
       "      <th>1</th>\n",
       "      <td>Sabrina</td>\n",
       "      <td>Comedy|Romance</td>\n",
       "      <td>Billy Wilder</td>\n",
       "      <td>Humphrey Bogart, Audrey Hepburn, William Holde...</td>\n",
       "    </tr>\n",
       "    <tr>\n",
       "      <th>2</th>\n",
       "      <td>Mortal Kombat</td>\n",
       "      <td>Action|Adventure|Fantasy</td>\n",
       "      <td>Paul W.S. Anderson</td>\n",
       "      <td>Christopher Lambert, Robin Shou, Linden Ashby,...</td>\n",
       "    </tr>\n",
       "    <tr>\n",
       "      <th>3</th>\n",
       "      <td>Hackers</td>\n",
       "      <td>Action|Adventure|Crime|Thriller</td>\n",
       "      <td>Iain Softley</td>\n",
       "      <td>Jonny Lee Miller, Angelina Jolie, Jesse Bradfo...</td>\n",
       "    </tr>\n",
       "    <tr>\n",
       "      <th>4</th>\n",
       "      <td>Waterworld</td>\n",
       "      <td>Action|Adventure|Sci-Fi</td>\n",
       "      <td>Kevin Reynolds</td>\n",
       "      <td>Kevin Costner, Chaim Jeraffi, Rick Aviles, R.D...</td>\n",
       "    </tr>\n",
       "  </tbody>\n",
       "</table>\n",
       "</div>"
      ],
      "text/plain": [
       "           Title                                       genres  \\\n",
       "0      Toy Story  Adventure|Animation|Children|Comedy|Fantasy   \n",
       "1        Sabrina                               Comedy|Romance   \n",
       "2  Mortal Kombat                     Action|Adventure|Fantasy   \n",
       "3        Hackers              Action|Adventure|Crime|Thriller   \n",
       "4     Waterworld                      Action|Adventure|Sci-Fi   \n",
       "\n",
       "             Director                                             Actors  \n",
       "0       John Lasseter      Tom Hanks, Tim Allen, Don Rickles, Jim Varney  \n",
       "1        Billy Wilder  Humphrey Bogart, Audrey Hepburn, William Holde...  \n",
       "2  Paul W.S. Anderson  Christopher Lambert, Robin Shou, Linden Ashby,...  \n",
       "3        Iain Softley  Jonny Lee Miller, Angelina Jolie, Jesse Bradfo...  \n",
       "4      Kevin Reynolds  Kevin Costner, Chaim Jeraffi, Rick Aviles, R.D...  "
      ]
     },
     "execution_count": 53,
     "metadata": {},
     "output_type": "execute_result"
    }
   ],
   "source": [
    "movies_only.head()"
   ]
  },
  {
   "cell_type": "code",
   "execution_count": 54,
   "metadata": {},
   "outputs": [],
   "source": [
    "movies_alt = movies_only.copy()"
   ]
  },
  {
   "cell_type": "code",
   "execution_count": 36,
   "metadata": {},
   "outputs": [],
   "source": [
    "# remove spaces from actors and director names\n",
    "\n",
    "def clean_data(x):\n",
    "    if isinstance(x, list):\n",
    "        return[str.lower(i.replace(\" \", \"\")) for i in x]\n",
    "    else:\n",
    "        if isinstance(x, str):\n",
    "            return str.lower(x.replace(\" \", \"\"))\n",
    "        else:\n",
    "            return ''\n",
    "            "
   ]
  },
  {
   "cell_type": "code",
   "execution_count": 55,
   "metadata": {},
   "outputs": [],
   "source": [
    "credits = ['Actors', 'Director']\n",
    "\n",
    "for credit in credits:\n",
    "    movies_alt[credit] = movies_alt[credit].apply(clean_data)"
   ]
  },
  {
   "cell_type": "code",
   "execution_count": 56,
   "metadata": {},
   "outputs": [],
   "source": [
    "# remove | from genres\n",
    "\n",
    "movies_alt['genres'] = movies_alt['genres'].str.replace(\"|\", \" \")"
   ]
  },
  {
   "cell_type": "code",
   "execution_count": 57,
   "metadata": {},
   "outputs": [
    {
     "data": {
      "text/html": [
       "<div>\n",
       "<style scoped>\n",
       "    .dataframe tbody tr th:only-of-type {\n",
       "        vertical-align: middle;\n",
       "    }\n",
       "\n",
       "    .dataframe tbody tr th {\n",
       "        vertical-align: top;\n",
       "    }\n",
       "\n",
       "    .dataframe thead th {\n",
       "        text-align: right;\n",
       "    }\n",
       "</style>\n",
       "<table border=\"1\" class=\"dataframe\">\n",
       "  <thead>\n",
       "    <tr style=\"text-align: right;\">\n",
       "      <th></th>\n",
       "      <th>Title</th>\n",
       "      <th>genres</th>\n",
       "      <th>Director</th>\n",
       "      <th>Actors</th>\n",
       "    </tr>\n",
       "  </thead>\n",
       "  <tbody>\n",
       "    <tr>\n",
       "      <th>0</th>\n",
       "      <td>Toy Story</td>\n",
       "      <td>Adventure Animation Children Comedy Fantasy</td>\n",
       "      <td>johnlasseter</td>\n",
       "      <td>tomhanks,timallen,donrickles,jimvarney</td>\n",
       "    </tr>\n",
       "    <tr>\n",
       "      <th>1</th>\n",
       "      <td>Sabrina</td>\n",
       "      <td>Comedy Romance</td>\n",
       "      <td>billywilder</td>\n",
       "      <td>humphreybogart,audreyhepburn,williamholden,wal...</td>\n",
       "    </tr>\n",
       "    <tr>\n",
       "      <th>2</th>\n",
       "      <td>Mortal Kombat</td>\n",
       "      <td>Action Adventure Fantasy</td>\n",
       "      <td>paulw.s.anderson</td>\n",
       "      <td>christopherlambert,robinshou,lindenashby,cary-...</td>\n",
       "    </tr>\n",
       "    <tr>\n",
       "      <th>3</th>\n",
       "      <td>Hackers</td>\n",
       "      <td>Action Adventure Crime Thriller</td>\n",
       "      <td>iainsoftley</td>\n",
       "      <td>jonnyleemiller,angelinajolie,jessebradford,mat...</td>\n",
       "    </tr>\n",
       "    <tr>\n",
       "      <th>4</th>\n",
       "      <td>Waterworld</td>\n",
       "      <td>Action Adventure Sci-Fi</td>\n",
       "      <td>kevinreynolds</td>\n",
       "      <td>kevincostner,chaimjeraffi,rickaviles,r.d.call</td>\n",
       "    </tr>\n",
       "  </tbody>\n",
       "</table>\n",
       "</div>"
      ],
      "text/plain": [
       "           Title                                       genres  \\\n",
       "0      Toy Story  Adventure Animation Children Comedy Fantasy   \n",
       "1        Sabrina                               Comedy Romance   \n",
       "2  Mortal Kombat                     Action Adventure Fantasy   \n",
       "3        Hackers              Action Adventure Crime Thriller   \n",
       "4     Waterworld                      Action Adventure Sci-Fi   \n",
       "\n",
       "           Director                                             Actors  \n",
       "0      johnlasseter             tomhanks,timallen,donrickles,jimvarney  \n",
       "1       billywilder  humphreybogart,audreyhepburn,williamholden,wal...  \n",
       "2  paulw.s.anderson  christopherlambert,robinshou,lindenashby,cary-...  \n",
       "3       iainsoftley  jonnyleemiller,angelinajolie,jessebradford,mat...  \n",
       "4     kevinreynolds      kevincostner,chaimjeraffi,rickaviles,r.d.call  "
      ]
     },
     "execution_count": 57,
     "metadata": {},
     "output_type": "execute_result"
    }
   ],
   "source": [
    "movies_alt.head()"
   ]
  },
  {
   "cell_type": "code",
   "execution_count": 58,
   "metadata": {},
   "outputs": [],
   "source": [
    "#combine all data \n",
    "\n",
    "def create_soup(x):\n",
    "    return  x['Actors'].replace(',',' ') + ' ' + x['Director'] + ' ' + ' '.join(x['genres'])"
   ]
  },
  {
   "cell_type": "code",
   "execution_count": 59,
   "metadata": {},
   "outputs": [],
   "source": [
    "movies_alt['bag_of_words'] = movies_alt.apply(create_soup, axis=1)"
   ]
  },
  {
   "cell_type": "code",
   "execution_count": 21,
   "metadata": {},
   "outputs": [],
   "source": [
    "# movies_alt.set_index('Title', inplace=True)"
   ]
  },
  {
   "cell_type": "code",
   "execution_count": 60,
   "metadata": {},
   "outputs": [
    {
     "data": {
      "text/html": [
       "<div>\n",
       "<style scoped>\n",
       "    .dataframe tbody tr th:only-of-type {\n",
       "        vertical-align: middle;\n",
       "    }\n",
       "\n",
       "    .dataframe tbody tr th {\n",
       "        vertical-align: top;\n",
       "    }\n",
       "\n",
       "    .dataframe thead th {\n",
       "        text-align: right;\n",
       "    }\n",
       "</style>\n",
       "<table border=\"1\" class=\"dataframe\">\n",
       "  <thead>\n",
       "    <tr style=\"text-align: right;\">\n",
       "      <th></th>\n",
       "      <th>Title</th>\n",
       "      <th>genres</th>\n",
       "      <th>Director</th>\n",
       "      <th>Actors</th>\n",
       "      <th>bag_of_words</th>\n",
       "    </tr>\n",
       "  </thead>\n",
       "  <tbody>\n",
       "    <tr>\n",
       "      <th>0</th>\n",
       "      <td>Toy Story</td>\n",
       "      <td>Adventure Animation Children Comedy Fantasy</td>\n",
       "      <td>johnlasseter</td>\n",
       "      <td>tomhanks,timallen,donrickles,jimvarney</td>\n",
       "      <td>tomhanks timallen donrickles jimvarney johnlas...</td>\n",
       "    </tr>\n",
       "    <tr>\n",
       "      <th>1</th>\n",
       "      <td>Sabrina</td>\n",
       "      <td>Comedy Romance</td>\n",
       "      <td>billywilder</td>\n",
       "      <td>humphreybogart,audreyhepburn,williamholden,wal...</td>\n",
       "      <td>humphreybogart audreyhepburn williamholden wal...</td>\n",
       "    </tr>\n",
       "    <tr>\n",
       "      <th>2</th>\n",
       "      <td>Mortal Kombat</td>\n",
       "      <td>Action Adventure Fantasy</td>\n",
       "      <td>paulw.s.anderson</td>\n",
       "      <td>christopherlambert,robinshou,lindenashby,cary-...</td>\n",
       "      <td>christopherlambert robinshou lindenashby cary-...</td>\n",
       "    </tr>\n",
       "    <tr>\n",
       "      <th>3</th>\n",
       "      <td>Hackers</td>\n",
       "      <td>Action Adventure Crime Thriller</td>\n",
       "      <td>iainsoftley</td>\n",
       "      <td>jonnyleemiller,angelinajolie,jessebradford,mat...</td>\n",
       "      <td>jonnyleemiller angelinajolie jessebradford mat...</td>\n",
       "    </tr>\n",
       "    <tr>\n",
       "      <th>4</th>\n",
       "      <td>Waterworld</td>\n",
       "      <td>Action Adventure Sci-Fi</td>\n",
       "      <td>kevinreynolds</td>\n",
       "      <td>kevincostner,chaimjeraffi,rickaviles,r.d.call</td>\n",
       "      <td>kevincostner chaimjeraffi rickaviles r.d.call ...</td>\n",
       "    </tr>\n",
       "  </tbody>\n",
       "</table>\n",
       "</div>"
      ],
      "text/plain": [
       "           Title                                       genres  \\\n",
       "0      Toy Story  Adventure Animation Children Comedy Fantasy   \n",
       "1        Sabrina                               Comedy Romance   \n",
       "2  Mortal Kombat                     Action Adventure Fantasy   \n",
       "3        Hackers              Action Adventure Crime Thriller   \n",
       "4     Waterworld                      Action Adventure Sci-Fi   \n",
       "\n",
       "           Director                                             Actors  \\\n",
       "0      johnlasseter             tomhanks,timallen,donrickles,jimvarney   \n",
       "1       billywilder  humphreybogart,audreyhepburn,williamholden,wal...   \n",
       "2  paulw.s.anderson  christopherlambert,robinshou,lindenashby,cary-...   \n",
       "3       iainsoftley  jonnyleemiller,angelinajolie,jessebradford,mat...   \n",
       "4     kevinreynolds      kevincostner,chaimjeraffi,rickaviles,r.d.call   \n",
       "\n",
       "                                        bag_of_words  \n",
       "0  tomhanks timallen donrickles jimvarney johnlas...  \n",
       "1  humphreybogart audreyhepburn williamholden wal...  \n",
       "2  christopherlambert robinshou lindenashby cary-...  \n",
       "3  jonnyleemiller angelinajolie jessebradford mat...  \n",
       "4  kevincostner chaimjeraffi rickaviles r.d.call ...  "
      ]
     },
     "execution_count": 60,
     "metadata": {},
     "output_type": "execute_result"
    }
   ],
   "source": [
    "movies_alt.head()"
   ]
  },
  {
   "cell_type": "code",
   "execution_count": 61,
   "metadata": {},
   "outputs": [],
   "source": [
    "movies_bow = movies_alt[['Title', 'bag_of_words']]\n",
    "\n",
    "# movies_bow.set_index('Title', inplace=True)"
   ]
  },
  {
   "cell_type": "code",
   "execution_count": 62,
   "metadata": {},
   "outputs": [],
   "source": [
    "# Import sklearn models\n",
    "\n",
    "from sklearn.feature_extraction.text import CountVectorizer\n",
    "from sklearn.metrics.pairwise import cosine_similarity"
   ]
  },
  {
   "cell_type": "code",
   "execution_count": 63,
   "metadata": {},
   "outputs": [],
   "source": [
    "# instantiating and generating the count matrix\n",
    "count = CountVectorizer()\n",
    "count_matrix = count.fit_transform(movies_bow['bag_of_words'])\n",
    "\n",
    "\n",
    "# generating the cosine similarity matrix\n",
    "cosine_sim = cosine_similarity(count_matrix, count_matrix)"
   ]
  },
  {
   "cell_type": "code",
   "execution_count": 64,
   "metadata": {},
   "outputs": [],
   "source": [
    "indices = pd.Series(movies_bow.index, index = movies_bow['Title'])\n",
    "\n",
    "def get_recommendations(title, cosine_sim=cosine_sim):\n",
    "    # Get the index of the movie that matches the title\n",
    "    idx = indices[title]\n",
    "\n",
    "    # Get the pairwsie similarity scores of all movies with that movie\n",
    "    sim_scores = list(enumerate(cosine_sim[idx]))\n",
    "\n",
    "    # Sort the movies based on the similarity scores\n",
    "    sim_scores = sorted(sim_scores, key=lambda x: x[1], reverse=True)\n",
    "\n",
    "    # Get the scores of the 10 most similar movies\n",
    "    sim_scores = sim_scores[1:11]\n",
    "\n",
    "    # Get the movie indices\n",
    "    movie_indices = [i[0] for i in sim_scores]\n",
    "\n",
    "    # Return the top 10 most similar movies\n",
    "    return movies_bow['Title'].iloc[movie_indices]"
   ]
  },
  {
   "cell_type": "code",
   "execution_count": 65,
   "metadata": {},
   "outputs": [
    {
     "data": {
      "text/plain": [
       "4233                         Vive L'Amour\n",
       "2926               What Time Is It There?\n",
       "4188                  Goodbye, Dragon Inn\n",
       "6876                      Secret Sunshine\n",
       "4243                      One Night Stand\n",
       "8605                  Teddy Bears' Picnic\n",
       "1544                          Snowpiercer\n",
       "310                        Street Fighter\n",
       "227     Final Fantasy: The Spirits Within\n",
       "1597           Sympathy for Mr. Vengeance\n",
       "Name: Title, dtype: object"
      ]
     },
     "execution_count": 65,
     "metadata": {},
     "output_type": "execute_result"
    }
   ],
   "source": [
    "get_recommendations('Rebels of the Neon God')"
   ]
  },
  {
   "cell_type": "code",
   "execution_count": 49,
   "metadata": {},
   "outputs": [
    {
     "data": {
      "text/plain": [
       "0                                               Toy Story\n",
       "1                                                 Sabrina\n",
       "2                                           Mortal Kombat\n",
       "3                                                 Hackers\n",
       "4                                              Waterworld\n",
       "5                                   Beverly Hills Cop III\n",
       "6                                               Tombstone\n",
       "7                                      Courage Under Fire\n",
       "8                                                  Ransom\n",
       "9                                                 Tin Cup\n",
       "10                                          Groundhog Day\n",
       "11                                             Unforgiven\n",
       "12                                                Dracula\n",
       "13                                              Cape Fear\n",
       "14                               Night Falls on Manhattan\n",
       "15                        Beavis and Butt-Head Do America\n",
       "16                                               Anaconda\n",
       "17                                                  Spawn\n",
       "18                                        Fire Down Below\n",
       "19                                                Gattaca\n",
       "20                                          U.S. Marshals\n",
       "21                                            Deep Impact\n",
       "22                                               Godzilla\n",
       "23                                              SLC Punk!\n",
       "24                                               eXistenZ\n",
       "25                                              Backdraft\n",
       "26                             Deuce Bigalow: Male Gigolo\n",
       "27                                           Galaxy Quest\n",
       "28                                        Mission to Mars\n",
       "29                                            Scary Movie\n",
       "                              ...                        \n",
       "9234                                                 Ride\n",
       "9235                                        Extreme Movie\n",
       "9236                                 Nayak: The Real Hero\n",
       "9237                                         Hate Story 2\n",
       "9238                                                  Far\n",
       "9239                                           Blackwoods\n",
       "9240                                              Gunless\n",
       "9241                                          Route Irish\n",
       "9242                                  Reykjavik-Rotterdam\n",
       "9243                                   Hammer of the Gods\n",
       "9244                                         Child of God\n",
       "9245                                            Last Will\n",
       "9246                                    Kill Your Friends\n",
       "9247                                    Now You See It...\n",
       "9248                         Eating Out 2: Sloppy Seconds\n",
       "9249                                                 Spin\n",
       "9250                               Someone Else's America\n",
       "9251    The Land Before Time IV: Journey Through the M...\n",
       "9252        The Land Before Time V: The Mysterious Island\n",
       "9253    The Land Before Time VI: The Secret of Saurus ...\n",
       "9254                          Scooby-Doo! Abracadabra-Doo\n",
       "9255                    Scooby-Doo and the Alien Invaders\n",
       "9256                                2012: Time for Change\n",
       "9257                               Video Games: The Movie\n",
       "9258                        Big Star: Nothing Can Hurt Me\n",
       "9259                                     Breadcrumb Trail\n",
       "9260                                     Such Good People\n",
       "9261                                            Toothless\n",
       "9262                               Rebels of the Neon God\n",
       "9263                                              Expired\n",
       "Name: Title, Length: 9264, dtype: object"
      ]
     },
     "execution_count": 49,
     "metadata": {},
     "output_type": "execute_result"
    }
   ],
   "source": [
    "movies_bow['Title']"
   ]
  },
  {
   "cell_type": "code",
   "execution_count": null,
   "metadata": {},
   "outputs": [],
   "source": []
  }
 ],
 "metadata": {
  "kernelspec": {
   "display_name": "Python 3",
   "language": "python",
   "name": "python3"
  },
  "language_info": {
   "codemirror_mode": {
    "name": "ipython",
    "version": 3
   },
   "file_extension": ".py",
   "mimetype": "text/x-python",
   "name": "python",
   "nbconvert_exporter": "python",
   "pygments_lexer": "ipython3",
   "version": "3.7.0"
  }
 },
 "nbformat": 4,
 "nbformat_minor": 2
}
