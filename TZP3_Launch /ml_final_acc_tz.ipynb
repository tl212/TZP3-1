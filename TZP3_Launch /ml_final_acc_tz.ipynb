{
 "cells": [
  {
   "cell_type": "code",
   "execution_count": null,
   "metadata": {},
   "outputs": [],
   "source": []
  },
  {
   "cell_type": "markdown",
   "metadata": {},
   "source": [
    "### 1. Import libraries"
   ]
  },
  {
   "cell_type": "code",
   "execution_count": 1,
   "metadata": {},
   "outputs": [
    {
     "data": {
      "text/plain": [
       "<function warnings.simplefilter(action, category=<class 'Warning'>, lineno=0, append=False)>"
      ]
     },
     "execution_count": 1,
     "metadata": {},
     "output_type": "execute_result"
    }
   ],
   "source": [
    "import pandas as pd\n",
    "import numpy as np\n",
    "import joblib\n",
    "from sklearn.feature_extraction.text import TfidfVectorizer, CountVectorizer\n",
    "from sklearn.metrics.pairwise import linear_kernel, cosine_similarity\n",
    "from nltk.stem.snowball import SnowballStemmer\n",
    "from nltk.stem.wordnet import WordNetLemmatizer\n",
    "from nltk.corpus import wordnet\n",
    "from surprise import Reader, Dataset, SVD, evaluate\n",
    "\n",
    "import warnings; warnings.simplefilter"
   ]
  },
  {
   "cell_type": "markdown",
   "metadata": {},
   "source": [
    "### 2. Load datasets \n",
    "\n",
    "The datasets we arae about to load is the result of hours of cleaning wich you will find in our data directory in our repo. "
   ]
  },
  {
   "cell_type": "code",
   "execution_count": 2,
   "metadata": {},
   "outputs": [],
   "source": [
    "ratings = pd.read_csv('ratings.csv')\n",
    "movies_df = pd.read_csv('movies_merged.csv')"
   ]
  },
  {
   "cell_type": "markdown",
   "metadata": {},
   "source": [
    "### 3. Understanding ou dataset \n",
    "\n",
    "#### Ratings dataframe"
   ]
  },
  {
   "cell_type": "code",
   "execution_count": 3,
   "metadata": {},
   "outputs": [
    {
     "data": {
      "text/html": [
       "<div>\n",
       "<style scoped>\n",
       "    .dataframe tbody tr th:only-of-type {\n",
       "        vertical-align: middle;\n",
       "    }\n",
       "\n",
       "    .dataframe tbody tr th {\n",
       "        vertical-align: top;\n",
       "    }\n",
       "\n",
       "    .dataframe thead th {\n",
       "        text-align: right;\n",
       "    }\n",
       "</style>\n",
       "<table border=\"1\" class=\"dataframe\">\n",
       "  <thead>\n",
       "    <tr style=\"text-align: right;\">\n",
       "      <th></th>\n",
       "      <th>userId</th>\n",
       "      <th>movieId</th>\n",
       "      <th>rating</th>\n",
       "      <th>timestamp</th>\n",
       "    </tr>\n",
       "  </thead>\n",
       "  <tbody>\n",
       "    <tr>\n",
       "      <th>0</th>\n",
       "      <td>1</td>\n",
       "      <td>110</td>\n",
       "      <td>1.0</td>\n",
       "      <td>1425941529</td>\n",
       "    </tr>\n",
       "    <tr>\n",
       "      <th>1</th>\n",
       "      <td>1</td>\n",
       "      <td>147</td>\n",
       "      <td>4.5</td>\n",
       "      <td>1425942435</td>\n",
       "    </tr>\n",
       "    <tr>\n",
       "      <th>2</th>\n",
       "      <td>1</td>\n",
       "      <td>858</td>\n",
       "      <td>5.0</td>\n",
       "      <td>1425941523</td>\n",
       "    </tr>\n",
       "    <tr>\n",
       "      <th>3</th>\n",
       "      <td>1</td>\n",
       "      <td>1221</td>\n",
       "      <td>5.0</td>\n",
       "      <td>1425941546</td>\n",
       "    </tr>\n",
       "    <tr>\n",
       "      <th>4</th>\n",
       "      <td>1</td>\n",
       "      <td>1246</td>\n",
       "      <td>5.0</td>\n",
       "      <td>1425941556</td>\n",
       "    </tr>\n",
       "  </tbody>\n",
       "</table>\n",
       "</div>"
      ],
      "text/plain": [
       "   userId  movieId  rating   timestamp\n",
       "0       1      110     1.0  1425941529\n",
       "1       1      147     4.5  1425942435\n",
       "2       1      858     5.0  1425941523\n",
       "3       1     1221     5.0  1425941546\n",
       "4       1     1246     5.0  1425941556"
      ]
     },
     "execution_count": 3,
     "metadata": {},
     "output_type": "execute_result"
    }
   ],
   "source": [
    "ratings.head()"
   ]
  },
  {
   "cell_type": "code",
   "execution_count": 4,
   "metadata": {},
   "outputs": [
    {
     "data": {
      "text/plain": [
       "Index(['userId', 'movieId', 'rating', 'timestamp'], dtype='object')"
      ]
     },
     "execution_count": 4,
     "metadata": {},
     "output_type": "execute_result"
    }
   ],
   "source": [
    "ratings.columns"
   ]
  },
  {
   "cell_type": "code",
   "execution_count": 5,
   "metadata": {},
   "outputs": [
    {
     "name": "stdout",
     "output_type": "stream",
     "text": [
      "<class 'pandas.core.frame.DataFrame'>\n",
      "RangeIndex: 26024289 entries, 0 to 26024288\n",
      "Data columns (total 4 columns):\n",
      "userId       int64\n",
      "movieId      int64\n",
      "rating       float64\n",
      "timestamp    int64\n",
      "dtypes: float64(1), int64(3)\n",
      "memory usage: 794.2 MB\n"
     ]
    }
   ],
   "source": [
    "ratings.info()"
   ]
  },
  {
   "cell_type": "code",
   "execution_count": 6,
   "metadata": {},
   "outputs": [
    {
     "data": {
      "text/plain": [
       "userId       26024289\n",
       "movieId      26024289\n",
       "rating       26024289\n",
       "timestamp    26024289\n",
       "dtype: int64"
      ]
     },
     "execution_count": 6,
     "metadata": {},
     "output_type": "execute_result"
    }
   ],
   "source": [
    "ratings.count()"
   ]
  },
  {
   "cell_type": "markdown",
   "metadata": {},
   "source": [
    "#### Movies dataframe"
   ]
  },
  {
   "cell_type": "code",
   "execution_count": 7,
   "metadata": {},
   "outputs": [
    {
     "data": {
      "text/html": [
       "<div>\n",
       "<style scoped>\n",
       "    .dataframe tbody tr th:only-of-type {\n",
       "        vertical-align: middle;\n",
       "    }\n",
       "\n",
       "    .dataframe tbody tr th {\n",
       "        vertical-align: top;\n",
       "    }\n",
       "\n",
       "    .dataframe thead th {\n",
       "        text-align: right;\n",
       "    }\n",
       "</style>\n",
       "<table border=\"1\" class=\"dataframe\">\n",
       "  <thead>\n",
       "    <tr style=\"text-align: right;\">\n",
       "      <th></th>\n",
       "      <th>movieId</th>\n",
       "      <th>Title</th>\n",
       "      <th>genres</th>\n",
       "      <th>released</th>\n",
       "      <th>Actors</th>\n",
       "      <th>Director</th>\n",
       "    </tr>\n",
       "  </thead>\n",
       "  <tbody>\n",
       "    <tr>\n",
       "      <th>0</th>\n",
       "      <td>1</td>\n",
       "      <td>Toy Story</td>\n",
       "      <td>Adventure|Animation|Children|Comedy|Fantasy</td>\n",
       "      <td>1995</td>\n",
       "      <td>Tom Hanks, Tim Allen, Don Rickles, Jim Varney</td>\n",
       "      <td>John Lasseter</td>\n",
       "    </tr>\n",
       "    <tr>\n",
       "      <th>1</th>\n",
       "      <td>2</td>\n",
       "      <td>Jumanji</td>\n",
       "      <td>Adventure|Children|Fantasy</td>\n",
       "      <td>1995</td>\n",
       "      <td>Robin Williams, Jonathan Hyde, Kirsten Dunst, ...</td>\n",
       "      <td>Joe Johnston</td>\n",
       "    </tr>\n",
       "    <tr>\n",
       "      <th>2</th>\n",
       "      <td>3</td>\n",
       "      <td>Grumpier Old Men</td>\n",
       "      <td>Comedy|Romance</td>\n",
       "      <td>1995</td>\n",
       "      <td>Walter Matthau, Jack Lemmon, Sophia Loren, Ann...</td>\n",
       "      <td>Howard Deutch</td>\n",
       "    </tr>\n",
       "    <tr>\n",
       "      <th>3</th>\n",
       "      <td>4</td>\n",
       "      <td>Waiting to Exhale</td>\n",
       "      <td>Comedy|Drama|Romance</td>\n",
       "      <td>1995</td>\n",
       "      <td>Whitney Houston, Angela Bassett, Loretta Devin...</td>\n",
       "      <td>Forest Whitaker</td>\n",
       "    </tr>\n",
       "    <tr>\n",
       "      <th>4</th>\n",
       "      <td>5</td>\n",
       "      <td>Father of the Bride Part II</td>\n",
       "      <td>Comedy</td>\n",
       "      <td>1995</td>\n",
       "      <td>Steve Martin, Diane Keaton, Martin Short, Kimb...</td>\n",
       "      <td>Charles Shyer</td>\n",
       "    </tr>\n",
       "  </tbody>\n",
       "</table>\n",
       "</div>"
      ],
      "text/plain": [
       "   movieId                        Title  \\\n",
       "0        1                    Toy Story   \n",
       "1        2                      Jumanji   \n",
       "2        3             Grumpier Old Men   \n",
       "3        4            Waiting to Exhale   \n",
       "4        5  Father of the Bride Part II   \n",
       "\n",
       "                                        genres  released  \\\n",
       "0  Adventure|Animation|Children|Comedy|Fantasy      1995   \n",
       "1                   Adventure|Children|Fantasy      1995   \n",
       "2                               Comedy|Romance      1995   \n",
       "3                         Comedy|Drama|Romance      1995   \n",
       "4                                       Comedy      1995   \n",
       "\n",
       "                                              Actors         Director  \n",
       "0      Tom Hanks, Tim Allen, Don Rickles, Jim Varney    John Lasseter  \n",
       "1  Robin Williams, Jonathan Hyde, Kirsten Dunst, ...     Joe Johnston  \n",
       "2  Walter Matthau, Jack Lemmon, Sophia Loren, Ann...    Howard Deutch  \n",
       "3  Whitney Houston, Angela Bassett, Loretta Devin...  Forest Whitaker  \n",
       "4  Steve Martin, Diane Keaton, Martin Short, Kimb...    Charles Shyer  "
      ]
     },
     "execution_count": 7,
     "metadata": {},
     "output_type": "execute_result"
    }
   ],
   "source": [
    "movies_df.head()"
   ]
  },
  {
   "cell_type": "code",
   "execution_count": 8,
   "metadata": {},
   "outputs": [
    {
     "data": {
      "text/plain": [
       "Index(['movieId', 'Title', 'genres', 'released', 'Actors', 'Director'], dtype='object')"
      ]
     },
     "execution_count": 8,
     "metadata": {},
     "output_type": "execute_result"
    }
   ],
   "source": [
    "movies_df.columns"
   ]
  },
  {
   "cell_type": "code",
   "execution_count": 9,
   "metadata": {},
   "outputs": [
    {
     "name": "stdout",
     "output_type": "stream",
     "text": [
      "<class 'pandas.core.frame.DataFrame'>\n",
      "RangeIndex: 31779 entries, 0 to 31778\n",
      "Data columns (total 6 columns):\n",
      "movieId     31779 non-null int64\n",
      "Title       31779 non-null object\n",
      "genres      31779 non-null object\n",
      "released    31779 non-null int64\n",
      "Actors      31779 non-null object\n",
      "Director    31779 non-null object\n",
      "dtypes: int64(2), object(4)\n",
      "memory usage: 1.5+ MB\n"
     ]
    }
   ],
   "source": [
    "movies_df.info()"
   ]
  },
  {
   "cell_type": "markdown",
   "metadata": {},
   "source": [
    "### 4. Data transformation \n",
    "\n",
    "Now that we understood our data, we are going to transform our data in order to archieve efficiency. As data scientists we have to always think ahead and predict what (continue to write)\n",
    "\n",
    "#### Counting number of ratings per user "
   ]
  },
  {
   "cell_type": "code",
   "execution_count": 10,
   "metadata": {},
   "outputs": [
    {
     "data": {
      "text/html": [
       "<div>\n",
       "<style scoped>\n",
       "    .dataframe tbody tr th:only-of-type {\n",
       "        vertical-align: middle;\n",
       "    }\n",
       "\n",
       "    .dataframe tbody tr th {\n",
       "        vertical-align: top;\n",
       "    }\n",
       "\n",
       "    .dataframe thead th {\n",
       "        text-align: right;\n",
       "    }\n",
       "</style>\n",
       "<table border=\"1\" class=\"dataframe\">\n",
       "  <thead>\n",
       "    <tr style=\"text-align: right;\">\n",
       "      <th></th>\n",
       "      <th>userId</th>\n",
       "      <th>rating_ct</th>\n",
       "    </tr>\n",
       "  </thead>\n",
       "  <tbody>\n",
       "    <tr>\n",
       "      <th>0</th>\n",
       "      <td>1</td>\n",
       "      <td>27</td>\n",
       "    </tr>\n",
       "    <tr>\n",
       "      <th>1</th>\n",
       "      <td>2</td>\n",
       "      <td>22</td>\n",
       "    </tr>\n",
       "    <tr>\n",
       "      <th>2</th>\n",
       "      <td>3</td>\n",
       "      <td>10</td>\n",
       "    </tr>\n",
       "    <tr>\n",
       "      <th>3</th>\n",
       "      <td>4</td>\n",
       "      <td>62</td>\n",
       "    </tr>\n",
       "    <tr>\n",
       "      <th>4</th>\n",
       "      <td>5</td>\n",
       "      <td>26</td>\n",
       "    </tr>\n",
       "  </tbody>\n",
       "</table>\n",
       "</div>"
      ],
      "text/plain": [
       "   userId  rating_ct\n",
       "0       1         27\n",
       "1       2         22\n",
       "2       3         10\n",
       "3       4         62\n",
       "4       5         26"
      ]
     },
     "execution_count": 10,
     "metadata": {},
     "output_type": "execute_result"
    }
   ],
   "source": [
    "user_ratings_grp = pd.DataFrame(ratings.groupby('userId')['rating'].count())\n",
    "user_ratings_grp = user_ratings_grp.rename(columns = {'rating': 'rating_ct'})\n",
    "user_ratings_grp.reset_index(inplace=True)\n",
    "user_ratings_grp.head()"
   ]
  },
  {
   "cell_type": "markdown",
   "metadata": {},
   "source": [
    "#### Find average of ratings per user "
   ]
  },
  {
   "cell_type": "code",
   "execution_count": 11,
   "metadata": {},
   "outputs": [
    {
     "data": {
      "text/plain": [
       "96.06745393065974"
      ]
     },
     "execution_count": 11,
     "metadata": {},
     "output_type": "execute_result"
    }
   ],
   "source": [
    "avg_nratings = user_ratings_grp['rating_ct'].mean()\n",
    "avg_nratings"
   ]
  },
  {
   "cell_type": "markdown",
   "metadata": {},
   "source": [
    "#### Qualifying user's rating by setting a cut line of 20 of the mean "
   ]
  },
  {
   "cell_type": "code",
   "execution_count": 12,
   "metadata": {},
   "outputs": [
    {
     "data": {
      "text/plain": [
       "(11910, 2)"
      ]
     },
     "execution_count": 12,
     "metadata": {},
     "output_type": "execute_result"
    }
   ],
   "source": [
    "top_user_ratings = user_ratings_grp[(user_ratings_grp['rating_ct'] >= 85) & (user_ratings_grp['rating_ct'] <= 105)]\n",
    "top_user_ratings.shape\n"
   ]
  },
  {
   "cell_type": "code",
   "execution_count": 13,
   "metadata": {},
   "outputs": [
    {
     "data": {
      "text/html": [
       "<div>\n",
       "<style scoped>\n",
       "    .dataframe tbody tr th:only-of-type {\n",
       "        vertical-align: middle;\n",
       "    }\n",
       "\n",
       "    .dataframe tbody tr th {\n",
       "        vertical-align: top;\n",
       "    }\n",
       "\n",
       "    .dataframe thead th {\n",
       "        text-align: right;\n",
       "    }\n",
       "</style>\n",
       "<table border=\"1\" class=\"dataframe\">\n",
       "  <thead>\n",
       "    <tr style=\"text-align: right;\">\n",
       "      <th></th>\n",
       "      <th>userId</th>\n",
       "      <th>rating_ct</th>\n",
       "    </tr>\n",
       "  </thead>\n",
       "  <tbody>\n",
       "    <tr>\n",
       "      <th>59</th>\n",
       "      <td>60</td>\n",
       "      <td>105</td>\n",
       "    </tr>\n",
       "    <tr>\n",
       "      <th>75</th>\n",
       "      <td>76</td>\n",
       "      <td>105</td>\n",
       "    </tr>\n",
       "    <tr>\n",
       "      <th>88</th>\n",
       "      <td>89</td>\n",
       "      <td>100</td>\n",
       "    </tr>\n",
       "    <tr>\n",
       "      <th>106</th>\n",
       "      <td>107</td>\n",
       "      <td>87</td>\n",
       "    </tr>\n",
       "    <tr>\n",
       "      <th>114</th>\n",
       "      <td>115</td>\n",
       "      <td>105</td>\n",
       "    </tr>\n",
       "  </tbody>\n",
       "</table>\n",
       "</div>"
      ],
      "text/plain": [
       "     userId  rating_ct\n",
       "59       60        105\n",
       "75       76        105\n",
       "88       89        100\n",
       "106     107         87\n",
       "114     115        105"
      ]
     },
     "execution_count": 13,
     "metadata": {},
     "output_type": "execute_result"
    }
   ],
   "source": [
    "top_user_ratings.head()"
   ]
  },
  {
   "cell_type": "markdown",
   "metadata": {},
   "source": [
    "#### Joining newly created table to our original ratings table (top_user_ratings + ratings)"
   ]
  },
  {
   "cell_type": "code",
   "execution_count": 14,
   "metadata": {},
   "outputs": [
    {
     "data": {
      "text/html": [
       "<div>\n",
       "<style scoped>\n",
       "    .dataframe tbody tr th:only-of-type {\n",
       "        vertical-align: middle;\n",
       "    }\n",
       "\n",
       "    .dataframe tbody tr th {\n",
       "        vertical-align: top;\n",
       "    }\n",
       "\n",
       "    .dataframe thead th {\n",
       "        text-align: right;\n",
       "    }\n",
       "</style>\n",
       "<table border=\"1\" class=\"dataframe\">\n",
       "  <thead>\n",
       "    <tr style=\"text-align: right;\">\n",
       "      <th></th>\n",
       "      <th>userId</th>\n",
       "      <th>rating_ct</th>\n",
       "      <th>movieId</th>\n",
       "      <th>rating</th>\n",
       "      <th>timestamp</th>\n",
       "    </tr>\n",
       "  </thead>\n",
       "  <tbody>\n",
       "    <tr>\n",
       "      <th>0</th>\n",
       "      <td>60</td>\n",
       "      <td>105</td>\n",
       "      <td>112</td>\n",
       "      <td>2.5</td>\n",
       "      <td>1136304271</td>\n",
       "    </tr>\n",
       "    <tr>\n",
       "      <th>1</th>\n",
       "      <td>60</td>\n",
       "      <td>105</td>\n",
       "      <td>153</td>\n",
       "      <td>2.5</td>\n",
       "      <td>1136306947</td>\n",
       "    </tr>\n",
       "    <tr>\n",
       "      <th>2</th>\n",
       "      <td>60</td>\n",
       "      <td>105</td>\n",
       "      <td>163</td>\n",
       "      <td>4.0</td>\n",
       "      <td>1136304313</td>\n",
       "    </tr>\n",
       "    <tr>\n",
       "      <th>3</th>\n",
       "      <td>60</td>\n",
       "      <td>105</td>\n",
       "      <td>165</td>\n",
       "      <td>4.0</td>\n",
       "      <td>1136306968</td>\n",
       "    </tr>\n",
       "    <tr>\n",
       "      <th>4</th>\n",
       "      <td>60</td>\n",
       "      <td>105</td>\n",
       "      <td>168</td>\n",
       "      <td>0.5</td>\n",
       "      <td>1136304366</td>\n",
       "    </tr>\n",
       "  </tbody>\n",
       "</table>\n",
       "</div>"
      ],
      "text/plain": [
       "   userId  rating_ct  movieId  rating   timestamp\n",
       "0      60        105      112     2.5  1136304271\n",
       "1      60        105      153     2.5  1136306947\n",
       "2      60        105      163     4.0  1136304313\n",
       "3      60        105      165     4.0  1136306968\n",
       "4      60        105      168     0.5  1136304366"
      ]
     },
     "execution_count": 14,
     "metadata": {},
     "output_type": "execute_result"
    }
   ],
   "source": [
    "new_ratings = pd.merge(top_user_ratings, ratings, how = 'inner', on = 'userId')\n",
    "new_ratings.head()"
   ]
  },
  {
   "cell_type": "markdown",
   "metadata": {},
   "source": [
    "#### Dropping timestamp column "
   ]
  },
  {
   "cell_type": "code",
   "execution_count": 15,
   "metadata": {},
   "outputs": [
    {
     "data": {
      "text/html": [
       "<div>\n",
       "<style scoped>\n",
       "    .dataframe tbody tr th:only-of-type {\n",
       "        vertical-align: middle;\n",
       "    }\n",
       "\n",
       "    .dataframe tbody tr th {\n",
       "        vertical-align: top;\n",
       "    }\n",
       "\n",
       "    .dataframe thead th {\n",
       "        text-align: right;\n",
       "    }\n",
       "</style>\n",
       "<table border=\"1\" class=\"dataframe\">\n",
       "  <thead>\n",
       "    <tr style=\"text-align: right;\">\n",
       "      <th></th>\n",
       "      <th>userId</th>\n",
       "      <th>rating_ct</th>\n",
       "      <th>movieId</th>\n",
       "      <th>rating</th>\n",
       "    </tr>\n",
       "  </thead>\n",
       "  <tbody>\n",
       "    <tr>\n",
       "      <th>0</th>\n",
       "      <td>60</td>\n",
       "      <td>105</td>\n",
       "      <td>112</td>\n",
       "      <td>2.5</td>\n",
       "    </tr>\n",
       "    <tr>\n",
       "      <th>1</th>\n",
       "      <td>60</td>\n",
       "      <td>105</td>\n",
       "      <td>153</td>\n",
       "      <td>2.5</td>\n",
       "    </tr>\n",
       "    <tr>\n",
       "      <th>2</th>\n",
       "      <td>60</td>\n",
       "      <td>105</td>\n",
       "      <td>163</td>\n",
       "      <td>4.0</td>\n",
       "    </tr>\n",
       "    <tr>\n",
       "      <th>3</th>\n",
       "      <td>60</td>\n",
       "      <td>105</td>\n",
       "      <td>165</td>\n",
       "      <td>4.0</td>\n",
       "    </tr>\n",
       "    <tr>\n",
       "      <th>4</th>\n",
       "      <td>60</td>\n",
       "      <td>105</td>\n",
       "      <td>168</td>\n",
       "      <td>0.5</td>\n",
       "    </tr>\n",
       "  </tbody>\n",
       "</table>\n",
       "</div>"
      ],
      "text/plain": [
       "   userId  rating_ct  movieId  rating\n",
       "0      60        105      112     2.5\n",
       "1      60        105      153     2.5\n",
       "2      60        105      163     4.0\n",
       "3      60        105      165     4.0\n",
       "4      60        105      168     0.5"
      ]
     },
     "execution_count": 15,
     "metadata": {},
     "output_type": "execute_result"
    }
   ],
   "source": [
    "new_ratings = new_ratings.drop(columns=['timestamp'])\n",
    "new_ratings.head()"
   ]
  },
  {
   "cell_type": "code",
   "execution_count": 16,
   "metadata": {},
   "outputs": [
    {
     "data": {
      "text/plain": [
       "(1133047, 4)"
      ]
     },
     "execution_count": 16,
     "metadata": {},
     "output_type": "execute_result"
    }
   ],
   "source": [
    "new_ratings.shape"
   ]
  },
  {
   "cell_type": "code",
   "execution_count": 17,
   "metadata": {},
   "outputs": [
    {
     "data": {
      "text/plain": [
       "userId       1133047\n",
       "rating_ct    1133047\n",
       "movieId      1133047\n",
       "rating       1133047\n",
       "dtype: int64"
      ]
     },
     "execution_count": 17,
     "metadata": {},
     "output_type": "execute_result"
    }
   ],
   "source": [
    "new_ratings.count()"
   ]
  },
  {
   "cell_type": "code",
   "execution_count": 18,
   "metadata": {},
   "outputs": [],
   "source": [
    "new_ratings.to_csv('new_ratings.csv', index=False)\n"
   ]
  },
  {
   "cell_type": "markdown",
   "metadata": {},
   "source": [
    "#### Removing spaces from actors and director names"
   ]
  },
  {
   "cell_type": "code",
   "execution_count": 19,
   "metadata": {},
   "outputs": [],
   "source": [
    "def clean_data(x):\n",
    "    if isinstance(x, list):\n",
    "        return[str.lower(i.replace(\" \", \"\")) for i in x]\n",
    "    else:\n",
    "        if isinstance(x, str):\n",
    "            return str.lower(x.replace(\" \", \"\"))\n",
    "        else:\n",
    "            return ''"
   ]
  },
  {
   "cell_type": "code",
   "execution_count": 20,
   "metadata": {},
   "outputs": [],
   "source": [
    "credits = ['Actors', 'Director']\n",
    "\n",
    "for credit in credits:\n",
    "    movies_df[credit] = movies_df[credit].apply(clean_data)"
   ]
  },
  {
   "cell_type": "code",
   "execution_count": 21,
   "metadata": {},
   "outputs": [],
   "source": [
    "# remove | from genres\n",
    "\n",
    "movies_df['genres'] = movies_df['genres'].str.replace(\"|\", \" \")"
   ]
  },
  {
   "cell_type": "code",
   "execution_count": 22,
   "metadata": {},
   "outputs": [
    {
     "data": {
      "text/html": [
       "<div>\n",
       "<style scoped>\n",
       "    .dataframe tbody tr th:only-of-type {\n",
       "        vertical-align: middle;\n",
       "    }\n",
       "\n",
       "    .dataframe tbody tr th {\n",
       "        vertical-align: top;\n",
       "    }\n",
       "\n",
       "    .dataframe thead th {\n",
       "        text-align: right;\n",
       "    }\n",
       "</style>\n",
       "<table border=\"1\" class=\"dataframe\">\n",
       "  <thead>\n",
       "    <tr style=\"text-align: right;\">\n",
       "      <th></th>\n",
       "      <th>movieId</th>\n",
       "      <th>Title</th>\n",
       "      <th>genres</th>\n",
       "      <th>released</th>\n",
       "      <th>Actors</th>\n",
       "      <th>Director</th>\n",
       "    </tr>\n",
       "  </thead>\n",
       "  <tbody>\n",
       "    <tr>\n",
       "      <th>0</th>\n",
       "      <td>1</td>\n",
       "      <td>Toy Story</td>\n",
       "      <td>Adventure Animation Children Comedy Fantasy</td>\n",
       "      <td>1995</td>\n",
       "      <td>tomhanks,timallen,donrickles,jimvarney</td>\n",
       "      <td>johnlasseter</td>\n",
       "    </tr>\n",
       "    <tr>\n",
       "      <th>1</th>\n",
       "      <td>2</td>\n",
       "      <td>Jumanji</td>\n",
       "      <td>Adventure Children Fantasy</td>\n",
       "      <td>1995</td>\n",
       "      <td>robinwilliams,jonathanhyde,kirstendunst,bradle...</td>\n",
       "      <td>joejohnston</td>\n",
       "    </tr>\n",
       "    <tr>\n",
       "      <th>2</th>\n",
       "      <td>3</td>\n",
       "      <td>Grumpier Old Men</td>\n",
       "      <td>Comedy Romance</td>\n",
       "      <td>1995</td>\n",
       "      <td>waltermatthau,jacklemmon,sophialoren,ann-margret</td>\n",
       "      <td>howarddeutch</td>\n",
       "    </tr>\n",
       "    <tr>\n",
       "      <th>3</th>\n",
       "      <td>4</td>\n",
       "      <td>Waiting to Exhale</td>\n",
       "      <td>Comedy Drama Romance</td>\n",
       "      <td>1995</td>\n",
       "      <td>whitneyhouston,angelabassett,lorettadevine,lel...</td>\n",
       "      <td>forestwhitaker</td>\n",
       "    </tr>\n",
       "    <tr>\n",
       "      <th>4</th>\n",
       "      <td>5</td>\n",
       "      <td>Father of the Bride Part II</td>\n",
       "      <td>Comedy</td>\n",
       "      <td>1995</td>\n",
       "      <td>stevemartin,dianekeaton,martinshort,kimberlywi...</td>\n",
       "      <td>charlesshyer</td>\n",
       "    </tr>\n",
       "  </tbody>\n",
       "</table>\n",
       "</div>"
      ],
      "text/plain": [
       "   movieId                        Title  \\\n",
       "0        1                    Toy Story   \n",
       "1        2                      Jumanji   \n",
       "2        3             Grumpier Old Men   \n",
       "3        4            Waiting to Exhale   \n",
       "4        5  Father of the Bride Part II   \n",
       "\n",
       "                                        genres  released  \\\n",
       "0  Adventure Animation Children Comedy Fantasy      1995   \n",
       "1                   Adventure Children Fantasy      1995   \n",
       "2                               Comedy Romance      1995   \n",
       "3                         Comedy Drama Romance      1995   \n",
       "4                                       Comedy      1995   \n",
       "\n",
       "                                              Actors        Director  \n",
       "0             tomhanks,timallen,donrickles,jimvarney    johnlasseter  \n",
       "1  robinwilliams,jonathanhyde,kirstendunst,bradle...     joejohnston  \n",
       "2   waltermatthau,jacklemmon,sophialoren,ann-margret    howarddeutch  \n",
       "3  whitneyhouston,angelabassett,lorettadevine,lel...  forestwhitaker  \n",
       "4  stevemartin,dianekeaton,martinshort,kimberlywi...    charlesshyer  "
      ]
     },
     "execution_count": 22,
     "metadata": {},
     "output_type": "execute_result"
    }
   ],
   "source": [
    "movies_df.head()"
   ]
  },
  {
   "cell_type": "markdown",
   "metadata": {},
   "source": [
    "#### Combining data "
   ]
  },
  {
   "cell_type": "code",
   "execution_count": 23,
   "metadata": {},
   "outputs": [],
   "source": [
    "def create_soup(x):\n",
    "    return  x['Actors'].replace(',',' ') + ' ' + x['Director'] + ' ' + ' '.join(x['genres'])\n"
   ]
  },
  {
   "cell_type": "code",
   "execution_count": 24,
   "metadata": {},
   "outputs": [],
   "source": [
    "movies_df['bag_of_words'] = movies_df.apply(create_soup, axis=1)"
   ]
  },
  {
   "cell_type": "code",
   "execution_count": 25,
   "metadata": {},
   "outputs": [
    {
     "data": {
      "text/html": [
       "<div>\n",
       "<style scoped>\n",
       "    .dataframe tbody tr th:only-of-type {\n",
       "        vertical-align: middle;\n",
       "    }\n",
       "\n",
       "    .dataframe tbody tr th {\n",
       "        vertical-align: top;\n",
       "    }\n",
       "\n",
       "    .dataframe thead th {\n",
       "        text-align: right;\n",
       "    }\n",
       "</style>\n",
       "<table border=\"1\" class=\"dataframe\">\n",
       "  <thead>\n",
       "    <tr style=\"text-align: right;\">\n",
       "      <th></th>\n",
       "      <th>movieId</th>\n",
       "      <th>Title</th>\n",
       "      <th>genres</th>\n",
       "      <th>released</th>\n",
       "      <th>Actors</th>\n",
       "      <th>Director</th>\n",
       "      <th>bag_of_words</th>\n",
       "    </tr>\n",
       "  </thead>\n",
       "  <tbody>\n",
       "    <tr>\n",
       "      <th>0</th>\n",
       "      <td>1</td>\n",
       "      <td>Toy Story</td>\n",
       "      <td>Adventure Animation Children Comedy Fantasy</td>\n",
       "      <td>1995</td>\n",
       "      <td>tomhanks,timallen,donrickles,jimvarney</td>\n",
       "      <td>johnlasseter</td>\n",
       "      <td>tomhanks timallen donrickles jimvarney johnlas...</td>\n",
       "    </tr>\n",
       "    <tr>\n",
       "      <th>1</th>\n",
       "      <td>2</td>\n",
       "      <td>Jumanji</td>\n",
       "      <td>Adventure Children Fantasy</td>\n",
       "      <td>1995</td>\n",
       "      <td>robinwilliams,jonathanhyde,kirstendunst,bradle...</td>\n",
       "      <td>joejohnston</td>\n",
       "      <td>robinwilliams jonathanhyde kirstendunst bradle...</td>\n",
       "    </tr>\n",
       "    <tr>\n",
       "      <th>2</th>\n",
       "      <td>3</td>\n",
       "      <td>Grumpier Old Men</td>\n",
       "      <td>Comedy Romance</td>\n",
       "      <td>1995</td>\n",
       "      <td>waltermatthau,jacklemmon,sophialoren,ann-margret</td>\n",
       "      <td>howarddeutch</td>\n",
       "      <td>waltermatthau jacklemmon sophialoren ann-margr...</td>\n",
       "    </tr>\n",
       "    <tr>\n",
       "      <th>3</th>\n",
       "      <td>4</td>\n",
       "      <td>Waiting to Exhale</td>\n",
       "      <td>Comedy Drama Romance</td>\n",
       "      <td>1995</td>\n",
       "      <td>whitneyhouston,angelabassett,lorettadevine,lel...</td>\n",
       "      <td>forestwhitaker</td>\n",
       "      <td>whitneyhouston angelabassett lorettadevine lel...</td>\n",
       "    </tr>\n",
       "    <tr>\n",
       "      <th>4</th>\n",
       "      <td>5</td>\n",
       "      <td>Father of the Bride Part II</td>\n",
       "      <td>Comedy</td>\n",
       "      <td>1995</td>\n",
       "      <td>stevemartin,dianekeaton,martinshort,kimberlywi...</td>\n",
       "      <td>charlesshyer</td>\n",
       "      <td>stevemartin dianekeaton martinshort kimberlywi...</td>\n",
       "    </tr>\n",
       "  </tbody>\n",
       "</table>\n",
       "</div>"
      ],
      "text/plain": [
       "   movieId                        Title  \\\n",
       "0        1                    Toy Story   \n",
       "1        2                      Jumanji   \n",
       "2        3             Grumpier Old Men   \n",
       "3        4            Waiting to Exhale   \n",
       "4        5  Father of the Bride Part II   \n",
       "\n",
       "                                        genres  released  \\\n",
       "0  Adventure Animation Children Comedy Fantasy      1995   \n",
       "1                   Adventure Children Fantasy      1995   \n",
       "2                               Comedy Romance      1995   \n",
       "3                         Comedy Drama Romance      1995   \n",
       "4                                       Comedy      1995   \n",
       "\n",
       "                                              Actors        Director  \\\n",
       "0             tomhanks,timallen,donrickles,jimvarney    johnlasseter   \n",
       "1  robinwilliams,jonathanhyde,kirstendunst,bradle...     joejohnston   \n",
       "2   waltermatthau,jacklemmon,sophialoren,ann-margret    howarddeutch   \n",
       "3  whitneyhouston,angelabassett,lorettadevine,lel...  forestwhitaker   \n",
       "4  stevemartin,dianekeaton,martinshort,kimberlywi...    charlesshyer   \n",
       "\n",
       "                                        bag_of_words  \n",
       "0  tomhanks timallen donrickles jimvarney johnlas...  \n",
       "1  robinwilliams jonathanhyde kirstendunst bradle...  \n",
       "2  waltermatthau jacklemmon sophialoren ann-margr...  \n",
       "3  whitneyhouston angelabassett lorettadevine lel...  \n",
       "4  stevemartin dianekeaton martinshort kimberlywi...  "
      ]
     },
     "execution_count": 25,
     "metadata": {},
     "output_type": "execute_result"
    }
   ],
   "source": [
    "movies_df.head()"
   ]
  },
  {
   "cell_type": "code",
   "execution_count": 26,
   "metadata": {},
   "outputs": [
    {
     "data": {
      "text/html": [
       "<div>\n",
       "<style scoped>\n",
       "    .dataframe tbody tr th:only-of-type {\n",
       "        vertical-align: middle;\n",
       "    }\n",
       "\n",
       "    .dataframe tbody tr th {\n",
       "        vertical-align: top;\n",
       "    }\n",
       "\n",
       "    .dataframe thead th {\n",
       "        text-align: right;\n",
       "    }\n",
       "</style>\n",
       "<table border=\"1\" class=\"dataframe\">\n",
       "  <thead>\n",
       "    <tr style=\"text-align: right;\">\n",
       "      <th></th>\n",
       "      <th>Title</th>\n",
       "      <th>movieId</th>\n",
       "      <th>bag_of_words</th>\n",
       "    </tr>\n",
       "  </thead>\n",
       "  <tbody>\n",
       "    <tr>\n",
       "      <th>0</th>\n",
       "      <td>Toy Story</td>\n",
       "      <td>1</td>\n",
       "      <td>tomhanks timallen donrickles jimvarney johnlas...</td>\n",
       "    </tr>\n",
       "    <tr>\n",
       "      <th>1</th>\n",
       "      <td>Jumanji</td>\n",
       "      <td>2</td>\n",
       "      <td>robinwilliams jonathanhyde kirstendunst bradle...</td>\n",
       "    </tr>\n",
       "    <tr>\n",
       "      <th>2</th>\n",
       "      <td>Grumpier Old Men</td>\n",
       "      <td>3</td>\n",
       "      <td>waltermatthau jacklemmon sophialoren ann-margr...</td>\n",
       "    </tr>\n",
       "    <tr>\n",
       "      <th>3</th>\n",
       "      <td>Waiting to Exhale</td>\n",
       "      <td>4</td>\n",
       "      <td>whitneyhouston angelabassett lorettadevine lel...</td>\n",
       "    </tr>\n",
       "    <tr>\n",
       "      <th>4</th>\n",
       "      <td>Father of the Bride Part II</td>\n",
       "      <td>5</td>\n",
       "      <td>stevemartin dianekeaton martinshort kimberlywi...</td>\n",
       "    </tr>\n",
       "  </tbody>\n",
       "</table>\n",
       "</div>"
      ],
      "text/plain": [
       "                         Title  movieId  \\\n",
       "0                    Toy Story        1   \n",
       "1                      Jumanji        2   \n",
       "2             Grumpier Old Men        3   \n",
       "3            Waiting to Exhale        4   \n",
       "4  Father of the Bride Part II        5   \n",
       "\n",
       "                                        bag_of_words  \n",
       "0  tomhanks timallen donrickles jimvarney johnlas...  \n",
       "1  robinwilliams jonathanhyde kirstendunst bradle...  \n",
       "2  waltermatthau jacklemmon sophialoren ann-margr...  \n",
       "3  whitneyhouston angelabassett lorettadevine lel...  \n",
       "4  stevemartin dianekeaton martinshort kimberlywi...  "
      ]
     },
     "execution_count": 26,
     "metadata": {},
     "output_type": "execute_result"
    }
   ],
   "source": [
    "movies_bow = movies_df[['Title', 'movieId', 'bag_of_words']]\n",
    "movies_bow.to_csv('movies_bow.csv', index=False)\n",
    "movies_bow.head()"
   ]
  },
  {
   "cell_type": "code",
   "execution_count": 27,
   "metadata": {},
   "outputs": [
    {
     "data": {
      "text/html": [
       "<div>\n",
       "<style scoped>\n",
       "    .dataframe tbody tr th:only-of-type {\n",
       "        vertical-align: middle;\n",
       "    }\n",
       "\n",
       "    .dataframe tbody tr th {\n",
       "        vertical-align: top;\n",
       "    }\n",
       "\n",
       "    .dataframe thead th {\n",
       "        text-align: right;\n",
       "    }\n",
       "</style>\n",
       "<table border=\"1\" class=\"dataframe\">\n",
       "  <thead>\n",
       "    <tr style=\"text-align: right;\">\n",
       "      <th></th>\n",
       "      <th>Title</th>\n",
       "      <th>movieId</th>\n",
       "      <th>bag_of_words</th>\n",
       "    </tr>\n",
       "  </thead>\n",
       "  <tbody>\n",
       "    <tr>\n",
       "      <th>0</th>\n",
       "      <td>Toy Story</td>\n",
       "      <td>1</td>\n",
       "      <td>tomhanks timallen donrickles jimvarney johnlas...</td>\n",
       "    </tr>\n",
       "    <tr>\n",
       "      <th>1</th>\n",
       "      <td>Jumanji</td>\n",
       "      <td>2</td>\n",
       "      <td>robinwilliams jonathanhyde kirstendunst bradle...</td>\n",
       "    </tr>\n",
       "    <tr>\n",
       "      <th>2</th>\n",
       "      <td>Grumpier Old Men</td>\n",
       "      <td>3</td>\n",
       "      <td>waltermatthau jacklemmon sophialoren ann-margr...</td>\n",
       "    </tr>\n",
       "    <tr>\n",
       "      <th>3</th>\n",
       "      <td>Waiting to Exhale</td>\n",
       "      <td>4</td>\n",
       "      <td>whitneyhouston angelabassett lorettadevine lel...</td>\n",
       "    </tr>\n",
       "    <tr>\n",
       "      <th>4</th>\n",
       "      <td>Father of the Bride Part II</td>\n",
       "      <td>5</td>\n",
       "      <td>stevemartin dianekeaton martinshort kimberlywi...</td>\n",
       "    </tr>\n",
       "  </tbody>\n",
       "</table>\n",
       "</div>"
      ],
      "text/plain": [
       "                         Title  movieId  \\\n",
       "0                    Toy Story        1   \n",
       "1                      Jumanji        2   \n",
       "2             Grumpier Old Men        3   \n",
       "3            Waiting to Exhale        4   \n",
       "4  Father of the Bride Part II        5   \n",
       "\n",
       "                                        bag_of_words  \n",
       "0  tomhanks timallen donrickles jimvarney johnlas...  \n",
       "1  robinwilliams jonathanhyde kirstendunst bradle...  \n",
       "2  waltermatthau jacklemmon sophialoren ann-margr...  \n",
       "3  whitneyhouston angelabassett lorettadevine lel...  \n",
       "4  stevemartin dianekeaton martinshort kimberlywi...  "
      ]
     },
     "execution_count": 27,
     "metadata": {},
     "output_type": "execute_result"
    }
   ],
   "source": [
    "movies_bow = pd.read_csv('movies_bow.csv')\n",
    "movies_bow.head()"
   ]
  },
  {
   "cell_type": "markdown",
   "metadata": {},
   "source": [
    "### 5.1. Building a recommender system \n",
    "#### Importing sklearn moules"
   ]
  },
  {
   "cell_type": "code",
   "execution_count": 28,
   "metadata": {},
   "outputs": [],
   "source": [
    "from sklearn.feature_extraction.text import CountVectorizer\n",
    "from sklearn.metrics.pairwise import cosine_similarity"
   ]
  },
  {
   "cell_type": "markdown",
   "metadata": {},
   "source": [
    "#### Initializing and generating the count matrix "
   ]
  },
  {
   "cell_type": "code",
   "execution_count": 29,
   "metadata": {},
   "outputs": [],
   "source": [
    "count = CountVectorizer()\n",
    "count_matrix = count.fit_transform(movies_bow['bag_of_words'])"
   ]
  },
  {
   "cell_type": "markdown",
   "metadata": {},
   "source": [
    "#### Generating the cosine similarity matrix"
   ]
  },
  {
   "cell_type": "code",
   "execution_count": 30,
   "metadata": {},
   "outputs": [],
   "source": [
    "cosine_sim = cosine_similarity(count_matrix, count_matrix)\n"
   ]
  },
  {
   "cell_type": "code",
   "execution_count": 31,
   "metadata": {},
   "outputs": [],
   "source": [
    "indices = pd.Series(movies_bow.index, index = movies_bow['Title'])\n",
    "\n",
    "def get_recommendations(title, cosine_sim=cosine_sim):\n",
    "    # Get the index of the movie that matches the title\n",
    "    idx = indices[title]\n",
    "\n",
    "    # Get the pairwsie similarity scores of all movies with that movie\n",
    "    sim_scores = list(enumerate(cosine_sim[idx]))\n",
    "\n",
    "    # Sort the movies based on the similarity scores\n",
    "    sim_scores = sorted(sim_scores, key=lambda x: x[1], reverse=True)\n",
    "\n",
    "    # Get the scores of the 10 most similar movies\n",
    "    sim_scores = sim_scores[1:26]\n",
    "\n",
    "    # Get the movie indices\n",
    "    movie_indices = [i[0] for i in sim_scores]\n",
    "\n",
    "    # Return the top 10 most similar movies\n",
    "    return movies_bow['Title'].iloc[movie_indices]\n",
    "                        "
   ]
  },
  {
   "cell_type": "code",
   "execution_count": 32,
   "metadata": {},
   "outputs": [
    {
     "data": {
      "text/plain": [
       "25690                   Kung Fu Yoga\n",
       "5236                       Who Am I?\n",
       "12179                           1911\n",
       "4345                     Crime Story\n",
       "23732         Jackie Chan: My Stunts\n",
       "924                       Supercop 2\n",
       "1532                       Mr. Magoo\n",
       "1833                       Rush Hour\n",
       "2064                      Black Mask\n",
       "2551                   Shanghai Noon\n",
       "3034                     Rush Hour 2\n",
       "4826     Around the World in 80 Days\n",
       "5123                     City Hunter\n",
       "5948              China Strike Force\n",
       "6611                     Thunderbolt\n",
       "7172                     Rush Hour 3\n",
       "7638                   July Rhapsody\n",
       "17276                Personal Tailor\n",
       "18289                   Dragon Blade\n",
       "24323                      Skiptrace\n",
       "24836                Railroad Tigers\n",
       "27902                  The Foreigner\n",
       "29297         Earth: One Amazing Day\n",
       "1675                    Mr. Nice Guy\n",
       "3791                Shanghai Knights\n",
       "Name: Title, dtype: object"
      ]
     },
     "execution_count": 32,
     "metadata": {},
     "output_type": "execute_result"
    }
   ],
   "source": [
    "get_recommendations('Rumble in the Bronx')"
   ]
  },
  {
   "cell_type": "markdown",
   "metadata": {},
   "source": [
    "### 5.2. CF based recommender system "
   ]
  },
  {
   "cell_type": "code",
   "execution_count": 33,
   "metadata": {},
   "outputs": [],
   "source": [
    "reader = Reader()"
   ]
  },
  {
   "cell_type": "code",
   "execution_count": 34,
   "metadata": {},
   "outputs": [],
   "source": [
    "data = Dataset.load_from_df(new_ratings[['userId', 'movieId', 'rating']], reader)\n",
    "data.split(n_folds=5)"
   ]
  },
  {
   "cell_type": "code",
   "execution_count": 35,
   "metadata": {},
   "outputs": [
    {
     "name": "stderr",
     "output_type": "stream",
     "text": [
      "/Users/thomaslee/anaconda3/lib/python3.6/site-packages/surprise/evaluate.py:66: UserWarning: The evaluate() method is deprecated. Please use model_selection.cross_validate() instead.\n",
      "  'model_selection.cross_validate() instead.', UserWarning)\n",
      "/Users/thomaslee/anaconda3/lib/python3.6/site-packages/surprise/dataset.py:193: UserWarning: Using data.split() or using load_from_folds() without using a CV iterator is now deprecated. \n",
      "  UserWarning)\n"
     ]
    },
    {
     "name": "stdout",
     "output_type": "stream",
     "text": [
      "Evaluating RMSE, MAE of algorithm SVD.\n",
      "\n",
      "------------\n",
      "Fold 1\n",
      "RMSE: 0.8737\n",
      "MAE:  0.6675\n",
      "------------\n",
      "Fold 2\n",
      "RMSE: 0.8761\n",
      "MAE:  0.6693\n",
      "------------\n",
      "Fold 3\n",
      "RMSE: 0.8755\n",
      "MAE:  0.6680\n",
      "------------\n",
      "Fold 4\n",
      "RMSE: 0.8724\n",
      "MAE:  0.6656\n",
      "------------\n",
      "Fold 5\n",
      "RMSE: 0.8765\n",
      "MAE:  0.6687\n",
      "------------\n",
      "------------\n",
      "Mean RMSE: 0.8748\n",
      "Mean MAE : 0.6678\n",
      "------------\n",
      "------------\n"
     ]
    },
    {
     "data": {
      "text/plain": [
       "CaseInsensitiveDefaultDict(list,\n",
       "                           {'rmse': [0.8736678410779543,\n",
       "                             0.876106547309535,\n",
       "                             0.8755342608804385,\n",
       "                             0.8723684660765281,\n",
       "                             0.8765228682862168],\n",
       "                            'mae': [0.6674660669470335,\n",
       "                             0.6693259159372866,\n",
       "                             0.6679865479362211,\n",
       "                             0.6655883588593249,\n",
       "                             0.6687269780677663]})"
      ]
     },
     "execution_count": 35,
     "metadata": {},
     "output_type": "execute_result"
    }
   ],
   "source": [
    "svd = SVD()\n",
    "evaluate(svd, data, measures=['RMSE', 'MAE'])"
   ]
  },
  {
   "cell_type": "code",
   "execution_count": 36,
   "metadata": {},
   "outputs": [
    {
     "name": "stderr",
     "output_type": "stream",
     "text": [
      "/Users/thomaslee/anaconda3/lib/python3.6/site-packages/surprise/prediction_algorithms/algo_base.py:51: UserWarning: train() is deprecated. Use fit() instead\n",
      "  warnings.warn('train() is deprecated. Use fit() instead', UserWarning)\n"
     ]
    },
    {
     "data": {
      "text/plain": [
       "<surprise.prediction_algorithms.matrix_factorization.SVD at 0x1a1f85fef0>"
      ]
     },
     "execution_count": 36,
     "metadata": {},
     "output_type": "execute_result"
    }
   ],
   "source": [
    "trainset = data.build_full_trainset()\n",
    "svd.train(trainset)"
   ]
  },
  {
   "cell_type": "code",
   "execution_count": 37,
   "metadata": {},
   "outputs": [
    {
     "data": {
      "text/html": [
       "<div>\n",
       "<style scoped>\n",
       "    .dataframe tbody tr th:only-of-type {\n",
       "        vertical-align: middle;\n",
       "    }\n",
       "\n",
       "    .dataframe tbody tr th {\n",
       "        vertical-align: top;\n",
       "    }\n",
       "\n",
       "    .dataframe thead th {\n",
       "        text-align: right;\n",
       "    }\n",
       "</style>\n",
       "<table border=\"1\" class=\"dataframe\">\n",
       "  <thead>\n",
       "    <tr style=\"text-align: right;\">\n",
       "      <th></th>\n",
       "      <th>userId</th>\n",
       "      <th>rating_ct</th>\n",
       "      <th>movieId</th>\n",
       "      <th>rating</th>\n",
       "    </tr>\n",
       "  </thead>\n",
       "  <tbody>\n",
       "    <tr>\n",
       "      <th>687663</th>\n",
       "      <td>163904</td>\n",
       "      <td>105</td>\n",
       "      <td>47</td>\n",
       "      <td>5.0</td>\n",
       "    </tr>\n",
       "    <tr>\n",
       "      <th>687664</th>\n",
       "      <td>163904</td>\n",
       "      <td>105</td>\n",
       "      <td>50</td>\n",
       "      <td>4.5</td>\n",
       "    </tr>\n",
       "    <tr>\n",
       "      <th>687665</th>\n",
       "      <td>163904</td>\n",
       "      <td>105</td>\n",
       "      <td>111</td>\n",
       "      <td>4.5</td>\n",
       "    </tr>\n",
       "    <tr>\n",
       "      <th>687666</th>\n",
       "      <td>163904</td>\n",
       "      <td>105</td>\n",
       "      <td>260</td>\n",
       "      <td>4.0</td>\n",
       "    </tr>\n",
       "    <tr>\n",
       "      <th>687667</th>\n",
       "      <td>163904</td>\n",
       "      <td>105</td>\n",
       "      <td>296</td>\n",
       "      <td>5.0</td>\n",
       "    </tr>\n",
       "    <tr>\n",
       "      <th>687668</th>\n",
       "      <td>163904</td>\n",
       "      <td>105</td>\n",
       "      <td>527</td>\n",
       "      <td>4.5</td>\n",
       "    </tr>\n",
       "    <tr>\n",
       "      <th>687669</th>\n",
       "      <td>163904</td>\n",
       "      <td>105</td>\n",
       "      <td>541</td>\n",
       "      <td>3.0</td>\n",
       "    </tr>\n",
       "    <tr>\n",
       "      <th>687670</th>\n",
       "      <td>163904</td>\n",
       "      <td>105</td>\n",
       "      <td>593</td>\n",
       "      <td>4.5</td>\n",
       "    </tr>\n",
       "    <tr>\n",
       "      <th>687671</th>\n",
       "      <td>163904</td>\n",
       "      <td>105</td>\n",
       "      <td>608</td>\n",
       "      <td>5.0</td>\n",
       "    </tr>\n",
       "    <tr>\n",
       "      <th>687672</th>\n",
       "      <td>163904</td>\n",
       "      <td>105</td>\n",
       "      <td>750</td>\n",
       "      <td>5.0</td>\n",
       "    </tr>\n",
       "    <tr>\n",
       "      <th>687673</th>\n",
       "      <td>163904</td>\n",
       "      <td>105</td>\n",
       "      <td>904</td>\n",
       "      <td>4.5</td>\n",
       "    </tr>\n",
       "    <tr>\n",
       "      <th>687674</th>\n",
       "      <td>163904</td>\n",
       "      <td>105</td>\n",
       "      <td>908</td>\n",
       "      <td>4.0</td>\n",
       "    </tr>\n",
       "    <tr>\n",
       "      <th>687675</th>\n",
       "      <td>163904</td>\n",
       "      <td>105</td>\n",
       "      <td>910</td>\n",
       "      <td>3.5</td>\n",
       "    </tr>\n",
       "    <tr>\n",
       "      <th>687676</th>\n",
       "      <td>163904</td>\n",
       "      <td>105</td>\n",
       "      <td>953</td>\n",
       "      <td>5.0</td>\n",
       "    </tr>\n",
       "    <tr>\n",
       "      <th>687677</th>\n",
       "      <td>163904</td>\n",
       "      <td>105</td>\n",
       "      <td>955</td>\n",
       "      <td>3.5</td>\n",
       "    </tr>\n",
       "    <tr>\n",
       "      <th>687678</th>\n",
       "      <td>163904</td>\n",
       "      <td>105</td>\n",
       "      <td>969</td>\n",
       "      <td>4.0</td>\n",
       "    </tr>\n",
       "    <tr>\n",
       "      <th>687679</th>\n",
       "      <td>163904</td>\n",
       "      <td>105</td>\n",
       "      <td>1079</td>\n",
       "      <td>4.5</td>\n",
       "    </tr>\n",
       "    <tr>\n",
       "      <th>687680</th>\n",
       "      <td>163904</td>\n",
       "      <td>105</td>\n",
       "      <td>1080</td>\n",
       "      <td>5.0</td>\n",
       "    </tr>\n",
       "    <tr>\n",
       "      <th>687681</th>\n",
       "      <td>163904</td>\n",
       "      <td>105</td>\n",
       "      <td>1089</td>\n",
       "      <td>4.5</td>\n",
       "    </tr>\n",
       "    <tr>\n",
       "      <th>687682</th>\n",
       "      <td>163904</td>\n",
       "      <td>105</td>\n",
       "      <td>1136</td>\n",
       "      <td>5.0</td>\n",
       "    </tr>\n",
       "    <tr>\n",
       "      <th>687683</th>\n",
       "      <td>163904</td>\n",
       "      <td>105</td>\n",
       "      <td>1193</td>\n",
       "      <td>4.0</td>\n",
       "    </tr>\n",
       "    <tr>\n",
       "      <th>687684</th>\n",
       "      <td>163904</td>\n",
       "      <td>105</td>\n",
       "      <td>1197</td>\n",
       "      <td>5.0</td>\n",
       "    </tr>\n",
       "    <tr>\n",
       "      <th>687685</th>\n",
       "      <td>163904</td>\n",
       "      <td>105</td>\n",
       "      <td>1200</td>\n",
       "      <td>2.0</td>\n",
       "    </tr>\n",
       "    <tr>\n",
       "      <th>687686</th>\n",
       "      <td>163904</td>\n",
       "      <td>105</td>\n",
       "      <td>1204</td>\n",
       "      <td>3.5</td>\n",
       "    </tr>\n",
       "    <tr>\n",
       "      <th>687687</th>\n",
       "      <td>163904</td>\n",
       "      <td>105</td>\n",
       "      <td>1206</td>\n",
       "      <td>5.0</td>\n",
       "    </tr>\n",
       "    <tr>\n",
       "      <th>687688</th>\n",
       "      <td>163904</td>\n",
       "      <td>105</td>\n",
       "      <td>1213</td>\n",
       "      <td>4.0</td>\n",
       "    </tr>\n",
       "    <tr>\n",
       "      <th>687689</th>\n",
       "      <td>163904</td>\n",
       "      <td>105</td>\n",
       "      <td>1220</td>\n",
       "      <td>4.0</td>\n",
       "    </tr>\n",
       "    <tr>\n",
       "      <th>687690</th>\n",
       "      <td>163904</td>\n",
       "      <td>105</td>\n",
       "      <td>1222</td>\n",
       "      <td>5.0</td>\n",
       "    </tr>\n",
       "    <tr>\n",
       "      <th>687691</th>\n",
       "      <td>163904</td>\n",
       "      <td>105</td>\n",
       "      <td>1228</td>\n",
       "      <td>4.0</td>\n",
       "    </tr>\n",
       "    <tr>\n",
       "      <th>687692</th>\n",
       "      <td>163904</td>\n",
       "      <td>105</td>\n",
       "      <td>1230</td>\n",
       "      <td>4.5</td>\n",
       "    </tr>\n",
       "    <tr>\n",
       "      <th>...</th>\n",
       "      <td>...</td>\n",
       "      <td>...</td>\n",
       "      <td>...</td>\n",
       "      <td>...</td>\n",
       "    </tr>\n",
       "    <tr>\n",
       "      <th>687738</th>\n",
       "      <td>163904</td>\n",
       "      <td>105</td>\n",
       "      <td>7438</td>\n",
       "      <td>4.5</td>\n",
       "    </tr>\n",
       "    <tr>\n",
       "      <th>687739</th>\n",
       "      <td>163904</td>\n",
       "      <td>105</td>\n",
       "      <td>8528</td>\n",
       "      <td>3.5</td>\n",
       "    </tr>\n",
       "    <tr>\n",
       "      <th>687740</th>\n",
       "      <td>163904</td>\n",
       "      <td>105</td>\n",
       "      <td>8874</td>\n",
       "      <td>4.5</td>\n",
       "    </tr>\n",
       "    <tr>\n",
       "      <th>687741</th>\n",
       "      <td>163904</td>\n",
       "      <td>105</td>\n",
       "      <td>26094</td>\n",
       "      <td>3.5</td>\n",
       "    </tr>\n",
       "    <tr>\n",
       "      <th>687742</th>\n",
       "      <td>163904</td>\n",
       "      <td>105</td>\n",
       "      <td>38061</td>\n",
       "      <td>3.5</td>\n",
       "    </tr>\n",
       "    <tr>\n",
       "      <th>687743</th>\n",
       "      <td>163904</td>\n",
       "      <td>105</td>\n",
       "      <td>42723</td>\n",
       "      <td>1.5</td>\n",
       "    </tr>\n",
       "    <tr>\n",
       "      <th>687744</th>\n",
       "      <td>163904</td>\n",
       "      <td>105</td>\n",
       "      <td>44555</td>\n",
       "      <td>4.0</td>\n",
       "    </tr>\n",
       "    <tr>\n",
       "      <th>687745</th>\n",
       "      <td>163904</td>\n",
       "      <td>105</td>\n",
       "      <td>46578</td>\n",
       "      <td>4.5</td>\n",
       "    </tr>\n",
       "    <tr>\n",
       "      <th>687746</th>\n",
       "      <td>163904</td>\n",
       "      <td>105</td>\n",
       "      <td>56333</td>\n",
       "      <td>4.0</td>\n",
       "    </tr>\n",
       "    <tr>\n",
       "      <th>687747</th>\n",
       "      <td>163904</td>\n",
       "      <td>105</td>\n",
       "      <td>56367</td>\n",
       "      <td>4.0</td>\n",
       "    </tr>\n",
       "    <tr>\n",
       "      <th>687748</th>\n",
       "      <td>163904</td>\n",
       "      <td>105</td>\n",
       "      <td>57368</td>\n",
       "      <td>4.0</td>\n",
       "    </tr>\n",
       "    <tr>\n",
       "      <th>687749</th>\n",
       "      <td>163904</td>\n",
       "      <td>105</td>\n",
       "      <td>68157</td>\n",
       "      <td>4.5</td>\n",
       "    </tr>\n",
       "    <tr>\n",
       "      <th>687750</th>\n",
       "      <td>163904</td>\n",
       "      <td>105</td>\n",
       "      <td>70286</td>\n",
       "      <td>4.0</td>\n",
       "    </tr>\n",
       "    <tr>\n",
       "      <th>687751</th>\n",
       "      <td>163904</td>\n",
       "      <td>105</td>\n",
       "      <td>71535</td>\n",
       "      <td>3.0</td>\n",
       "    </tr>\n",
       "    <tr>\n",
       "      <th>687752</th>\n",
       "      <td>163904</td>\n",
       "      <td>105</td>\n",
       "      <td>77455</td>\n",
       "      <td>4.5</td>\n",
       "    </tr>\n",
       "    <tr>\n",
       "      <th>687753</th>\n",
       "      <td>163904</td>\n",
       "      <td>105</td>\n",
       "      <td>86345</td>\n",
       "      <td>4.5</td>\n",
       "    </tr>\n",
       "    <tr>\n",
       "      <th>687754</th>\n",
       "      <td>163904</td>\n",
       "      <td>105</td>\n",
       "      <td>86347</td>\n",
       "      <td>4.5</td>\n",
       "    </tr>\n",
       "    <tr>\n",
       "      <th>687755</th>\n",
       "      <td>163904</td>\n",
       "      <td>105</td>\n",
       "      <td>86377</td>\n",
       "      <td>4.5</td>\n",
       "    </tr>\n",
       "    <tr>\n",
       "      <th>687756</th>\n",
       "      <td>163904</td>\n",
       "      <td>105</td>\n",
       "      <td>89864</td>\n",
       "      <td>2.0</td>\n",
       "    </tr>\n",
       "    <tr>\n",
       "      <th>687757</th>\n",
       "      <td>163904</td>\n",
       "      <td>105</td>\n",
       "      <td>90632</td>\n",
       "      <td>1.5</td>\n",
       "    </tr>\n",
       "    <tr>\n",
       "      <th>687758</th>\n",
       "      <td>163904</td>\n",
       "      <td>105</td>\n",
       "      <td>94959</td>\n",
       "      <td>3.5</td>\n",
       "    </tr>\n",
       "    <tr>\n",
       "      <th>687759</th>\n",
       "      <td>163904</td>\n",
       "      <td>105</td>\n",
       "      <td>96488</td>\n",
       "      <td>4.5</td>\n",
       "    </tr>\n",
       "    <tr>\n",
       "      <th>687760</th>\n",
       "      <td>163904</td>\n",
       "      <td>105</td>\n",
       "      <td>99114</td>\n",
       "      <td>4.0</td>\n",
       "    </tr>\n",
       "    <tr>\n",
       "      <th>687761</th>\n",
       "      <td>163904</td>\n",
       "      <td>105</td>\n",
       "      <td>106782</td>\n",
       "      <td>4.5</td>\n",
       "    </tr>\n",
       "    <tr>\n",
       "      <th>687762</th>\n",
       "      <td>163904</td>\n",
       "      <td>105</td>\n",
       "      <td>109374</td>\n",
       "      <td>4.0</td>\n",
       "    </tr>\n",
       "    <tr>\n",
       "      <th>687763</th>\n",
       "      <td>163904</td>\n",
       "      <td>105</td>\n",
       "      <td>115991</td>\n",
       "      <td>3.5</td>\n",
       "    </tr>\n",
       "    <tr>\n",
       "      <th>687764</th>\n",
       "      <td>163904</td>\n",
       "      <td>105</td>\n",
       "      <td>133771</td>\n",
       "      <td>5.0</td>\n",
       "    </tr>\n",
       "    <tr>\n",
       "      <th>687765</th>\n",
       "      <td>163904</td>\n",
       "      <td>105</td>\n",
       "      <td>139855</td>\n",
       "      <td>4.5</td>\n",
       "    </tr>\n",
       "    <tr>\n",
       "      <th>687766</th>\n",
       "      <td>163904</td>\n",
       "      <td>105</td>\n",
       "      <td>152077</td>\n",
       "      <td>5.0</td>\n",
       "    </tr>\n",
       "    <tr>\n",
       "      <th>687767</th>\n",
       "      <td>163904</td>\n",
       "      <td>105</td>\n",
       "      <td>159193</td>\n",
       "      <td>3.5</td>\n",
       "    </tr>\n",
       "  </tbody>\n",
       "</table>\n",
       "<p>105 rows × 4 columns</p>\n",
       "</div>"
      ],
      "text/plain": [
       "        userId  rating_ct  movieId  rating\n",
       "687663  163904        105       47     5.0\n",
       "687664  163904        105       50     4.5\n",
       "687665  163904        105      111     4.5\n",
       "687666  163904        105      260     4.0\n",
       "687667  163904        105      296     5.0\n",
       "687668  163904        105      527     4.5\n",
       "687669  163904        105      541     3.0\n",
       "687670  163904        105      593     4.5\n",
       "687671  163904        105      608     5.0\n",
       "687672  163904        105      750     5.0\n",
       "687673  163904        105      904     4.5\n",
       "687674  163904        105      908     4.0\n",
       "687675  163904        105      910     3.5\n",
       "687676  163904        105      953     5.0\n",
       "687677  163904        105      955     3.5\n",
       "687678  163904        105      969     4.0\n",
       "687679  163904        105     1079     4.5\n",
       "687680  163904        105     1080     5.0\n",
       "687681  163904        105     1089     4.5\n",
       "687682  163904        105     1136     5.0\n",
       "687683  163904        105     1193     4.0\n",
       "687684  163904        105     1197     5.0\n",
       "687685  163904        105     1200     2.0\n",
       "687686  163904        105     1204     3.5\n",
       "687687  163904        105     1206     5.0\n",
       "687688  163904        105     1213     4.0\n",
       "687689  163904        105     1220     4.0\n",
       "687690  163904        105     1222     5.0\n",
       "687691  163904        105     1228     4.0\n",
       "687692  163904        105     1230     4.5\n",
       "...        ...        ...      ...     ...\n",
       "687738  163904        105     7438     4.5\n",
       "687739  163904        105     8528     3.5\n",
       "687740  163904        105     8874     4.5\n",
       "687741  163904        105    26094     3.5\n",
       "687742  163904        105    38061     3.5\n",
       "687743  163904        105    42723     1.5\n",
       "687744  163904        105    44555     4.0\n",
       "687745  163904        105    46578     4.5\n",
       "687746  163904        105    56333     4.0\n",
       "687747  163904        105    56367     4.0\n",
       "687748  163904        105    57368     4.0\n",
       "687749  163904        105    68157     4.5\n",
       "687750  163904        105    70286     4.0\n",
       "687751  163904        105    71535     3.0\n",
       "687752  163904        105    77455     4.5\n",
       "687753  163904        105    86345     4.5\n",
       "687754  163904        105    86347     4.5\n",
       "687755  163904        105    86377     4.5\n",
       "687756  163904        105    89864     2.0\n",
       "687757  163904        105    90632     1.5\n",
       "687758  163904        105    94959     3.5\n",
       "687759  163904        105    96488     4.5\n",
       "687760  163904        105    99114     4.0\n",
       "687761  163904        105   106782     4.5\n",
       "687762  163904        105   109374     4.0\n",
       "687763  163904        105   115991     3.5\n",
       "687764  163904        105   133771     5.0\n",
       "687765  163904        105   139855     4.5\n",
       "687766  163904        105   152077     5.0\n",
       "687767  163904        105   159193     3.5\n",
       "\n",
       "[105 rows x 4 columns]"
      ]
     },
     "execution_count": 37,
     "metadata": {},
     "output_type": "execute_result"
    }
   ],
   "source": [
    "new_ratings[new_ratings['userId'] == 163904]"
   ]
  },
  {
   "cell_type": "code",
   "execution_count": 40,
   "metadata": {},
   "outputs": [
    {
     "data": {
      "text/plain": [
       "Prediction(uid=163904, iid=302, r_ui=None, est=4.104373499792094, details={'was_impossible': False})"
      ]
     },
     "execution_count": 40,
     "metadata": {},
     "output_type": "execute_result"
    }
   ],
   "source": [
    "svd.predict(163904, 302)"
   ]
  },
  {
   "cell_type": "code",
   "execution_count": 40,
   "metadata": {},
   "outputs": [
    {
     "data": {
      "text/html": [
       "<div>\n",
       "<style scoped>\n",
       "    .dataframe tbody tr th:only-of-type {\n",
       "        vertical-align: middle;\n",
       "    }\n",
       "\n",
       "    .dataframe tbody tr th {\n",
       "        vertical-align: top;\n",
       "    }\n",
       "\n",
       "    .dataframe thead th {\n",
       "        text-align: right;\n",
       "    }\n",
       "</style>\n",
       "<table border=\"1\" class=\"dataframe\">\n",
       "  <thead>\n",
       "    <tr style=\"text-align: right;\">\n",
       "      <th></th>\n",
       "      <th>userId</th>\n",
       "      <th>rating_ct</th>\n",
       "      <th>movieId</th>\n",
       "      <th>rating</th>\n",
       "      <th>Title</th>\n",
       "      <th>genres</th>\n",
       "      <th>released</th>\n",
       "      <th>Actors</th>\n",
       "      <th>Director</th>\n",
       "      <th>bag_of_words</th>\n",
       "    </tr>\n",
       "  </thead>\n",
       "  <tbody>\n",
       "    <tr>\n",
       "      <th>0</th>\n",
       "      <td>60</td>\n",
       "      <td>105</td>\n",
       "      <td>112</td>\n",
       "      <td>2.5</td>\n",
       "      <td>Rumble in the Bronx</td>\n",
       "      <td>Action Adventure Comedy Crime</td>\n",
       "      <td>1995</td>\n",
       "      <td>jackiechan,anitamui,françoiseyip,billtung</td>\n",
       "      <td>stanleytong</td>\n",
       "      <td>jackiechan anitamui françoiseyip billtung stan...</td>\n",
       "    </tr>\n",
       "    <tr>\n",
       "      <th>1</th>\n",
       "      <td>123</td>\n",
       "      <td>99</td>\n",
       "      <td>112</td>\n",
       "      <td>3.0</td>\n",
       "      <td>Rumble in the Bronx</td>\n",
       "      <td>Action Adventure Comedy Crime</td>\n",
       "      <td>1995</td>\n",
       "      <td>jackiechan,anitamui,françoiseyip,billtung</td>\n",
       "      <td>stanleytong</td>\n",
       "      <td>jackiechan anitamui françoiseyip billtung stan...</td>\n",
       "    </tr>\n",
       "    <tr>\n",
       "      <th>2</th>\n",
       "      <td>131</td>\n",
       "      <td>87</td>\n",
       "      <td>112</td>\n",
       "      <td>2.0</td>\n",
       "      <td>Rumble in the Bronx</td>\n",
       "      <td>Action Adventure Comedy Crime</td>\n",
       "      <td>1995</td>\n",
       "      <td>jackiechan,anitamui,françoiseyip,billtung</td>\n",
       "      <td>stanleytong</td>\n",
       "      <td>jackiechan anitamui françoiseyip billtung stan...</td>\n",
       "    </tr>\n",
       "    <tr>\n",
       "      <th>3</th>\n",
       "      <td>595</td>\n",
       "      <td>91</td>\n",
       "      <td>112</td>\n",
       "      <td>5.0</td>\n",
       "      <td>Rumble in the Bronx</td>\n",
       "      <td>Action Adventure Comedy Crime</td>\n",
       "      <td>1995</td>\n",
       "      <td>jackiechan,anitamui,françoiseyip,billtung</td>\n",
       "      <td>stanleytong</td>\n",
       "      <td>jackiechan anitamui françoiseyip billtung stan...</td>\n",
       "    </tr>\n",
       "    <tr>\n",
       "      <th>4</th>\n",
       "      <td>627</td>\n",
       "      <td>85</td>\n",
       "      <td>112</td>\n",
       "      <td>3.0</td>\n",
       "      <td>Rumble in the Bronx</td>\n",
       "      <td>Action Adventure Comedy Crime</td>\n",
       "      <td>1995</td>\n",
       "      <td>jackiechan,anitamui,françoiseyip,billtung</td>\n",
       "      <td>stanleytong</td>\n",
       "      <td>jackiechan anitamui françoiseyip billtung stan...</td>\n",
       "    </tr>\n",
       "  </tbody>\n",
       "</table>\n",
       "</div>"
      ],
      "text/plain": [
       "   userId  rating_ct  movieId  rating                Title  \\\n",
       "0      60        105      112     2.5  Rumble in the Bronx   \n",
       "1     123         99      112     3.0  Rumble in the Bronx   \n",
       "2     131         87      112     2.0  Rumble in the Bronx   \n",
       "3     595         91      112     5.0  Rumble in the Bronx   \n",
       "4     627         85      112     3.0  Rumble in the Bronx   \n",
       "\n",
       "                          genres  released  \\\n",
       "0  Action Adventure Comedy Crime      1995   \n",
       "1  Action Adventure Comedy Crime      1995   \n",
       "2  Action Adventure Comedy Crime      1995   \n",
       "3  Action Adventure Comedy Crime      1995   \n",
       "4  Action Adventure Comedy Crime      1995   \n",
       "\n",
       "                                      Actors     Director  \\\n",
       "0  jackiechan,anitamui,françoiseyip,billtung  stanleytong   \n",
       "1  jackiechan,anitamui,françoiseyip,billtung  stanleytong   \n",
       "2  jackiechan,anitamui,françoiseyip,billtung  stanleytong   \n",
       "3  jackiechan,anitamui,françoiseyip,billtung  stanleytong   \n",
       "4  jackiechan,anitamui,françoiseyip,billtung  stanleytong   \n",
       "\n",
       "                                        bag_of_words  \n",
       "0  jackiechan anitamui françoiseyip billtung stan...  \n",
       "1  jackiechan anitamui françoiseyip billtung stan...  \n",
       "2  jackiechan anitamui françoiseyip billtung stan...  \n",
       "3  jackiechan anitamui françoiseyip billtung stan...  \n",
       "4  jackiechan anitamui françoiseyip billtung stan...  "
      ]
     },
     "execution_count": 40,
     "metadata": {},
     "output_type": "execute_result"
    }
   ],
   "source": [
    "mvd = pd.merge(new_ratings, movies_df, on='movieId')\n",
    "mvd.head()"
   ]
  },
  {
   "cell_type": "code",
   "execution_count": 41,
   "metadata": {},
   "outputs": [
    {
     "data": {
      "text/plain": [
       "(774593, 10)"
      ]
     },
     "execution_count": 41,
     "metadata": {},
     "output_type": "execute_result"
    }
   ],
   "source": [
    "mvd.shape"
   ]
  },
  {
   "cell_type": "code",
   "execution_count": 42,
   "metadata": {},
   "outputs": [
    {
     "data": {
      "text/plain": [
       "userId          774593\n",
       "rating_ct       774593\n",
       "movieId         774593\n",
       "rating          774593\n",
       "Title           774593\n",
       "genres          774593\n",
       "released        774593\n",
       "Actors          774593\n",
       "Director        774593\n",
       "bag_of_words    774593\n",
       "dtype: int64"
      ]
     },
     "execution_count": 42,
     "metadata": {},
     "output_type": "execute_result"
    }
   ],
   "source": [
    "mvd.count()"
   ]
  },
  {
   "cell_type": "code",
   "execution_count": 43,
   "metadata": {},
   "outputs": [
    {
     "data": {
      "text/html": [
       "<div>\n",
       "<style scoped>\n",
       "    .dataframe tbody tr th:only-of-type {\n",
       "        vertical-align: middle;\n",
       "    }\n",
       "\n",
       "    .dataframe tbody tr th {\n",
       "        vertical-align: top;\n",
       "    }\n",
       "\n",
       "    .dataframe thead th {\n",
       "        text-align: right;\n",
       "    }\n",
       "</style>\n",
       "<table border=\"1\" class=\"dataframe\">\n",
       "  <thead>\n",
       "    <tr style=\"text-align: right;\">\n",
       "      <th></th>\n",
       "      <th>index</th>\n",
       "      <th>movieId</th>\n",
       "      <th>Title</th>\n",
       "      <th>genres</th>\n",
       "      <th>released</th>\n",
       "      <th>Actors</th>\n",
       "      <th>Director</th>\n",
       "      <th>bag_of_words</th>\n",
       "    </tr>\n",
       "  </thead>\n",
       "  <tbody>\n",
       "    <tr>\n",
       "      <th>0</th>\n",
       "      <td>0</td>\n",
       "      <td>1</td>\n",
       "      <td>Toy Story</td>\n",
       "      <td>Adventure Animation Children Comedy Fantasy</td>\n",
       "      <td>1995</td>\n",
       "      <td>tomhanks,timallen,donrickles,jimvarney</td>\n",
       "      <td>johnlasseter</td>\n",
       "      <td>tomhanks timallen donrickles jimvarney johnlas...</td>\n",
       "    </tr>\n",
       "    <tr>\n",
       "      <th>1</th>\n",
       "      <td>1</td>\n",
       "      <td>2</td>\n",
       "      <td>Jumanji</td>\n",
       "      <td>Adventure Children Fantasy</td>\n",
       "      <td>1995</td>\n",
       "      <td>robinwilliams,jonathanhyde,kirstendunst,bradle...</td>\n",
       "      <td>joejohnston</td>\n",
       "      <td>robinwilliams jonathanhyde kirstendunst bradle...</td>\n",
       "    </tr>\n",
       "    <tr>\n",
       "      <th>2</th>\n",
       "      <td>2</td>\n",
       "      <td>3</td>\n",
       "      <td>Grumpier Old Men</td>\n",
       "      <td>Comedy Romance</td>\n",
       "      <td>1995</td>\n",
       "      <td>waltermatthau,jacklemmon,sophialoren,ann-margret</td>\n",
       "      <td>howarddeutch</td>\n",
       "      <td>waltermatthau jacklemmon sophialoren ann-margr...</td>\n",
       "    </tr>\n",
       "    <tr>\n",
       "      <th>3</th>\n",
       "      <td>3</td>\n",
       "      <td>4</td>\n",
       "      <td>Waiting to Exhale</td>\n",
       "      <td>Comedy Drama Romance</td>\n",
       "      <td>1995</td>\n",
       "      <td>whitneyhouston,angelabassett,lorettadevine,lel...</td>\n",
       "      <td>forestwhitaker</td>\n",
       "      <td>whitneyhouston angelabassett lorettadevine lel...</td>\n",
       "    </tr>\n",
       "    <tr>\n",
       "      <th>4</th>\n",
       "      <td>4</td>\n",
       "      <td>5</td>\n",
       "      <td>Father of the Bride Part II</td>\n",
       "      <td>Comedy</td>\n",
       "      <td>1995</td>\n",
       "      <td>stevemartin,dianekeaton,martinshort,kimberlywi...</td>\n",
       "      <td>charlesshyer</td>\n",
       "      <td>stevemartin dianekeaton martinshort kimberlywi...</td>\n",
       "    </tr>\n",
       "  </tbody>\n",
       "</table>\n",
       "</div>"
      ],
      "text/plain": [
       "   index  movieId                        Title  \\\n",
       "0      0        1                    Toy Story   \n",
       "1      1        2                      Jumanji   \n",
       "2      2        3             Grumpier Old Men   \n",
       "3      3        4            Waiting to Exhale   \n",
       "4      4        5  Father of the Bride Part II   \n",
       "\n",
       "                                        genres  released  \\\n",
       "0  Adventure Animation Children Comedy Fantasy      1995   \n",
       "1                   Adventure Children Fantasy      1995   \n",
       "2                               Comedy Romance      1995   \n",
       "3                         Comedy Drama Romance      1995   \n",
       "4                                       Comedy      1995   \n",
       "\n",
       "                                              Actors        Director  \\\n",
       "0             tomhanks,timallen,donrickles,jimvarney    johnlasseter   \n",
       "1  robinwilliams,jonathanhyde,kirstendunst,bradle...     joejohnston   \n",
       "2   waltermatthau,jacklemmon,sophialoren,ann-margret    howarddeutch   \n",
       "3  whitneyhouston,angelabassett,lorettadevine,lel...  forestwhitaker   \n",
       "4  stevemartin,dianekeaton,martinshort,kimberlywi...    charlesshyer   \n",
       "\n",
       "                                        bag_of_words  \n",
       "0  tomhanks timallen donrickles jimvarney johnlas...  \n",
       "1  robinwilliams jonathanhyde kirstendunst bradle...  \n",
       "2  waltermatthau jacklemmon sophialoren ann-margr...  \n",
       "3  whitneyhouston angelabassett lorettadevine lel...  \n",
       "4  stevemartin dianekeaton martinshort kimberlywi...  "
      ]
     },
     "execution_count": 43,
     "metadata": {},
     "output_type": "execute_result"
    }
   ],
   "source": [
    "movies_map = movies_df.copy()\n",
    "movies_map.reset_index(inplace=True)\n",
    "movies_map.head()"
   ]
  },
  {
   "cell_type": "code",
   "execution_count": 44,
   "metadata": {},
   "outputs": [
    {
     "data": {
      "text/plain": [
       "(31779, 8)"
      ]
     },
     "execution_count": 44,
     "metadata": {},
     "output_type": "execute_result"
    }
   ],
   "source": [
    "movies_map.shape"
   ]
  },
  {
   "cell_type": "code",
   "execution_count": 45,
   "metadata": {},
   "outputs": [
    {
     "data": {
      "text/html": [
       "<div>\n",
       "<style scoped>\n",
       "    .dataframe tbody tr th:only-of-type {\n",
       "        vertical-align: middle;\n",
       "    }\n",
       "\n",
       "    .dataframe tbody tr th {\n",
       "        vertical-align: top;\n",
       "    }\n",
       "\n",
       "    .dataframe thead th {\n",
       "        text-align: right;\n",
       "    }\n",
       "</style>\n",
       "<table border=\"1\" class=\"dataframe\">\n",
       "  <thead>\n",
       "    <tr style=\"text-align: right;\">\n",
       "      <th></th>\n",
       "      <th>id</th>\n",
       "      <th>movieId</th>\n",
       "      <th>Title</th>\n",
       "      <th>genres</th>\n",
       "      <th>released</th>\n",
       "      <th>Actors</th>\n",
       "      <th>Director</th>\n",
       "      <th>bag_of_words</th>\n",
       "    </tr>\n",
       "  </thead>\n",
       "  <tbody>\n",
       "    <tr>\n",
       "      <th>0</th>\n",
       "      <td>0</td>\n",
       "      <td>1</td>\n",
       "      <td>Toy Story</td>\n",
       "      <td>Adventure Animation Children Comedy Fantasy</td>\n",
       "      <td>1995</td>\n",
       "      <td>tomhanks,timallen,donrickles,jimvarney</td>\n",
       "      <td>johnlasseter</td>\n",
       "      <td>tomhanks timallen donrickles jimvarney johnlas...</td>\n",
       "    </tr>\n",
       "    <tr>\n",
       "      <th>1</th>\n",
       "      <td>1</td>\n",
       "      <td>2</td>\n",
       "      <td>Jumanji</td>\n",
       "      <td>Adventure Children Fantasy</td>\n",
       "      <td>1995</td>\n",
       "      <td>robinwilliams,jonathanhyde,kirstendunst,bradle...</td>\n",
       "      <td>joejohnston</td>\n",
       "      <td>robinwilliams jonathanhyde kirstendunst bradle...</td>\n",
       "    </tr>\n",
       "    <tr>\n",
       "      <th>2</th>\n",
       "      <td>2</td>\n",
       "      <td>3</td>\n",
       "      <td>Grumpier Old Men</td>\n",
       "      <td>Comedy Romance</td>\n",
       "      <td>1995</td>\n",
       "      <td>waltermatthau,jacklemmon,sophialoren,ann-margret</td>\n",
       "      <td>howarddeutch</td>\n",
       "      <td>waltermatthau jacklemmon sophialoren ann-margr...</td>\n",
       "    </tr>\n",
       "    <tr>\n",
       "      <th>3</th>\n",
       "      <td>3</td>\n",
       "      <td>4</td>\n",
       "      <td>Waiting to Exhale</td>\n",
       "      <td>Comedy Drama Romance</td>\n",
       "      <td>1995</td>\n",
       "      <td>whitneyhouston,angelabassett,lorettadevine,lel...</td>\n",
       "      <td>forestwhitaker</td>\n",
       "      <td>whitneyhouston angelabassett lorettadevine lel...</td>\n",
       "    </tr>\n",
       "    <tr>\n",
       "      <th>4</th>\n",
       "      <td>4</td>\n",
       "      <td>5</td>\n",
       "      <td>Father of the Bride Part II</td>\n",
       "      <td>Comedy</td>\n",
       "      <td>1995</td>\n",
       "      <td>stevemartin,dianekeaton,martinshort,kimberlywi...</td>\n",
       "      <td>charlesshyer</td>\n",
       "      <td>stevemartin dianekeaton martinshort kimberlywi...</td>\n",
       "    </tr>\n",
       "  </tbody>\n",
       "</table>\n",
       "</div>"
      ],
      "text/plain": [
       "   id  movieId                        Title  \\\n",
       "0   0        1                    Toy Story   \n",
       "1   1        2                      Jumanji   \n",
       "2   2        3             Grumpier Old Men   \n",
       "3   3        4            Waiting to Exhale   \n",
       "4   4        5  Father of the Bride Part II   \n",
       "\n",
       "                                        genres  released  \\\n",
       "0  Adventure Animation Children Comedy Fantasy      1995   \n",
       "1                   Adventure Children Fantasy      1995   \n",
       "2                               Comedy Romance      1995   \n",
       "3                         Comedy Drama Romance      1995   \n",
       "4                                       Comedy      1995   \n",
       "\n",
       "                                              Actors        Director  \\\n",
       "0             tomhanks,timallen,donrickles,jimvarney    johnlasseter   \n",
       "1  robinwilliams,jonathanhyde,kirstendunst,bradle...     joejohnston   \n",
       "2   waltermatthau,jacklemmon,sophialoren,ann-margret    howarddeutch   \n",
       "3  whitneyhouston,angelabassett,lorettadevine,lel...  forestwhitaker   \n",
       "4  stevemartin,dianekeaton,martinshort,kimberlywi...    charlesshyer   \n",
       "\n",
       "                                        bag_of_words  \n",
       "0  tomhanks timallen donrickles jimvarney johnlas...  \n",
       "1  robinwilliams jonathanhyde kirstendunst bradle...  \n",
       "2  waltermatthau jacklemmon sophialoren ann-margr...  \n",
       "3  whitneyhouston angelabassett lorettadevine lel...  \n",
       "4  stevemartin dianekeaton martinshort kimberlywi...  "
      ]
     },
     "execution_count": 45,
     "metadata": {},
     "output_type": "execute_result"
    }
   ],
   "source": [
    "movies_map = movies_map.rename(columns={'index': 'id'})\n",
    "movies_map.head()"
   ]
  },
  {
   "cell_type": "markdown",
   "metadata": {},
   "source": [
    "### Hybrid recommendation system "
   ]
  },
  {
   "cell_type": "code",
   "execution_count": 46,
   "metadata": {},
   "outputs": [],
   "source": [
    "def convert_int(x):\n",
    "    try:\n",
    "        return int(x)\n",
    "    except:\n",
    "        return np.nan"
   ]
  },
  {
   "cell_type": "code",
   "execution_count": 47,
   "metadata": {},
   "outputs": [],
   "source": [
    "indices = pd.Series(movies_bow.index, index = movies_bow['Title'])\n"
   ]
  },
  {
   "cell_type": "code",
   "execution_count": 48,
   "metadata": {},
   "outputs": [],
   "source": [
    "def hybrid(userId, title):\n",
    "    idx = indices[title]\n",
    "    sim_scores = list(enumerate(cosine_sim[int(idx)]))\n",
    "    sim_scores = sorted(sim_scores, key=lambda x: x[1], reverse=True)\n",
    "    sim_scores = sim_scores[1:26]\n",
    "    movie_indices = [i[0] for i in sim_scores]\n",
    "    movies = movies_map.iloc[movie_indices][['Title', 'id']]\n",
    "    movies['est'] = movies['id'].apply(lambda x: svd.predict(userId, movies_map.loc[x]['movieId']).est)\n",
    "    movies = movies.sort_values('est', ascending=False)\n",
    "    top10 = movies['Title'][:11]\n",
    "    return top10"
   ]
  },
  {
   "cell_type": "code",
   "execution_count": 49,
   "metadata": {},
   "outputs": [
    {
     "data": {
      "text/plain": [
       "2064                 Black Mask\n",
       "18289              Dragon Blade\n",
       "5236                  Who Am I?\n",
       "7638              July Rhapsody\n",
       "12179                      1911\n",
       "4345                Crime Story\n",
       "23732    Jackie Chan: My Stunts\n",
       "29297    Earth: One Amazing Day\n",
       "27902             The Foreigner\n",
       "24836           Railroad Tigers\n",
       "17276           Personal Tailor\n",
       "Name: Title, dtype: object"
      ]
     },
     "execution_count": 49,
     "metadata": {},
     "output_type": "execute_result"
    }
   ],
   "source": [
    "hybrid(1, 'Rumble in the Bronx')"
   ]
  },
  {
   "cell_type": "code",
   "execution_count": null,
   "metadata": {},
   "outputs": [],
   "source": []
  },
  {
   "cell_type": "code",
   "execution_count": null,
   "metadata": {},
   "outputs": [],
   "source": []
  }
 ],
 "metadata": {
  "kernelspec": {
   "display_name": "Python 3",
   "language": "python",
   "name": "python3"
  },
  "language_info": {
   "codemirror_mode": {
    "name": "ipython",
    "version": 3
   },
   "file_extension": ".py",
   "mimetype": "text/x-python",
   "name": "python",
   "nbconvert_exporter": "python",
   "pygments_lexer": "ipython3",
   "version": "3.6.8"
  }
 },
 "nbformat": 4,
 "nbformat_minor": 2
}
